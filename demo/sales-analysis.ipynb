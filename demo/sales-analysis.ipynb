{
 "cells": [
  {
   "cell_type": "code",
   "execution_count": 1,
   "id": "139facc9",
   "metadata": {
    "execution": {
     "iopub.execute_input": "2022-02-08T12:11:56.910910Z",
     "iopub.status.busy": "2022-02-08T12:11:56.909615Z",
     "iopub.status.idle": "2022-02-08T12:11:58.125981Z",
     "shell.execute_reply": "2022-02-08T12:11:58.124564Z",
     "shell.execute_reply.started": "2022-02-08T12:10:42.643733Z"
    },
    "papermill": {
     "duration": 1.272682,
     "end_time": "2022-02-08T12:11:58.126196",
     "exception": false,
     "start_time": "2022-02-08T12:11:56.853514",
     "status": "completed"
    },
    "tags": []
   },
   "outputs": [],
   "source": [
    "import numpy as np\n",
    "import pandas as pd\n",
    "import matplotlib.pyplot as plt\n",
    "import seaborn as sns"
   ]
  },
  {
   "cell_type": "code",
   "execution_count": 2,
   "id": "2bc779b8",
   "metadata": {
    "execution": {
     "iopub.execute_input": "2022-02-08T12:11:58.231158Z",
     "iopub.status.busy": "2022-02-08T12:11:58.230429Z",
     "iopub.status.idle": "2022-02-08T12:11:58.364206Z",
     "shell.execute_reply": "2022-02-08T12:11:58.363557Z",
     "shell.execute_reply.started": "2022-02-08T12:10:42.653123Z"
    },
    "papermill": {
     "duration": 0.185543,
     "end_time": "2022-02-08T12:11:58.364366",
     "exception": false,
     "start_time": "2022-02-08T12:11:58.178823",
     "status": "completed"
    },
    "tags": []
   },
   "outputs": [],
   "source": [
    "sales = pd.read_csv('../input/sales-forecasting/train.csv')"
   ]
  },
  {
   "cell_type": "code",
   "execution_count": 3,
   "id": "531df320",
   "metadata": {
    "execution": {
     "iopub.execute_input": "2022-02-08T12:11:58.476954Z",
     "iopub.status.busy": "2022-02-08T12:11:58.476249Z",
     "iopub.status.idle": "2022-02-08T12:11:58.503954Z",
     "shell.execute_reply": "2022-02-08T12:11:58.503288Z",
     "shell.execute_reply.started": "2022-02-08T12:10:42.709470Z"
    },
    "papermill": {
     "duration": 0.088016,
     "end_time": "2022-02-08T12:11:58.504114",
     "exception": false,
     "start_time": "2022-02-08T12:11:58.416098",
     "status": "completed"
    },
    "tags": []
   },
   "outputs": [
    {
     "data": {
      "text/html": [
       "<div>\n",
       "<style scoped>\n",
       "    .dataframe tbody tr th:only-of-type {\n",
       "        vertical-align: middle;\n",
       "    }\n",
       "\n",
       "    .dataframe tbody tr th {\n",
       "        vertical-align: top;\n",
       "    }\n",
       "\n",
       "    .dataframe thead th {\n",
       "        text-align: right;\n",
       "    }\n",
       "</style>\n",
       "<table border=\"1\" class=\"dataframe\">\n",
       "  <thead>\n",
       "    <tr style=\"text-align: right;\">\n",
       "      <th></th>\n",
       "      <th>Row ID</th>\n",
       "      <th>Order ID</th>\n",
       "      <th>Order Date</th>\n",
       "      <th>Ship Date</th>\n",
       "      <th>Ship Mode</th>\n",
       "      <th>Customer ID</th>\n",
       "      <th>Customer Name</th>\n",
       "      <th>Segment</th>\n",
       "      <th>Country</th>\n",
       "      <th>City</th>\n",
       "      <th>State</th>\n",
       "      <th>Postal Code</th>\n",
       "      <th>Region</th>\n",
       "      <th>Product ID</th>\n",
       "      <th>Category</th>\n",
       "      <th>Sub-Category</th>\n",
       "      <th>Product Name</th>\n",
       "      <th>Sales</th>\n",
       "    </tr>\n",
       "  </thead>\n",
       "  <tbody>\n",
       "    <tr>\n",
       "      <th>0</th>\n",
       "      <td>1</td>\n",
       "      <td>CA-2017-152156</td>\n",
       "      <td>08/11/2017</td>\n",
       "      <td>11/11/2017</td>\n",
       "      <td>Second Class</td>\n",
       "      <td>CG-12520</td>\n",
       "      <td>Claire Gute</td>\n",
       "      <td>Consumer</td>\n",
       "      <td>United States</td>\n",
       "      <td>Henderson</td>\n",
       "      <td>Kentucky</td>\n",
       "      <td>42420.0</td>\n",
       "      <td>South</td>\n",
       "      <td>FUR-BO-10001798</td>\n",
       "      <td>Furniture</td>\n",
       "      <td>Bookcases</td>\n",
       "      <td>Bush Somerset Collection Bookcase</td>\n",
       "      <td>261.9600</td>\n",
       "    </tr>\n",
       "    <tr>\n",
       "      <th>1</th>\n",
       "      <td>2</td>\n",
       "      <td>CA-2017-152156</td>\n",
       "      <td>08/11/2017</td>\n",
       "      <td>11/11/2017</td>\n",
       "      <td>Second Class</td>\n",
       "      <td>CG-12520</td>\n",
       "      <td>Claire Gute</td>\n",
       "      <td>Consumer</td>\n",
       "      <td>United States</td>\n",
       "      <td>Henderson</td>\n",
       "      <td>Kentucky</td>\n",
       "      <td>42420.0</td>\n",
       "      <td>South</td>\n",
       "      <td>FUR-CH-10000454</td>\n",
       "      <td>Furniture</td>\n",
       "      <td>Chairs</td>\n",
       "      <td>Hon Deluxe Fabric Upholstered Stacking Chairs,...</td>\n",
       "      <td>731.9400</td>\n",
       "    </tr>\n",
       "    <tr>\n",
       "      <th>2</th>\n",
       "      <td>3</td>\n",
       "      <td>CA-2017-138688</td>\n",
       "      <td>12/06/2017</td>\n",
       "      <td>16/06/2017</td>\n",
       "      <td>Second Class</td>\n",
       "      <td>DV-13045</td>\n",
       "      <td>Darrin Van Huff</td>\n",
       "      <td>Corporate</td>\n",
       "      <td>United States</td>\n",
       "      <td>Los Angeles</td>\n",
       "      <td>California</td>\n",
       "      <td>90036.0</td>\n",
       "      <td>West</td>\n",
       "      <td>OFF-LA-10000240</td>\n",
       "      <td>Office Supplies</td>\n",
       "      <td>Labels</td>\n",
       "      <td>Self-Adhesive Address Labels for Typewriters b...</td>\n",
       "      <td>14.6200</td>\n",
       "    </tr>\n",
       "    <tr>\n",
       "      <th>3</th>\n",
       "      <td>4</td>\n",
       "      <td>US-2016-108966</td>\n",
       "      <td>11/10/2016</td>\n",
       "      <td>18/10/2016</td>\n",
       "      <td>Standard Class</td>\n",
       "      <td>SO-20335</td>\n",
       "      <td>Sean O'Donnell</td>\n",
       "      <td>Consumer</td>\n",
       "      <td>United States</td>\n",
       "      <td>Fort Lauderdale</td>\n",
       "      <td>Florida</td>\n",
       "      <td>33311.0</td>\n",
       "      <td>South</td>\n",
       "      <td>FUR-TA-10000577</td>\n",
       "      <td>Furniture</td>\n",
       "      <td>Tables</td>\n",
       "      <td>Bretford CR4500 Series Slim Rectangular Table</td>\n",
       "      <td>957.5775</td>\n",
       "    </tr>\n",
       "    <tr>\n",
       "      <th>4</th>\n",
       "      <td>5</td>\n",
       "      <td>US-2016-108966</td>\n",
       "      <td>11/10/2016</td>\n",
       "      <td>18/10/2016</td>\n",
       "      <td>Standard Class</td>\n",
       "      <td>SO-20335</td>\n",
       "      <td>Sean O'Donnell</td>\n",
       "      <td>Consumer</td>\n",
       "      <td>United States</td>\n",
       "      <td>Fort Lauderdale</td>\n",
       "      <td>Florida</td>\n",
       "      <td>33311.0</td>\n",
       "      <td>South</td>\n",
       "      <td>OFF-ST-10000760</td>\n",
       "      <td>Office Supplies</td>\n",
       "      <td>Storage</td>\n",
       "      <td>Eldon Fold 'N Roll Cart System</td>\n",
       "      <td>22.3680</td>\n",
       "    </tr>\n",
       "  </tbody>\n",
       "</table>\n",
       "</div>"
      ],
      "text/plain": [
       "   Row ID        Order ID  Order Date   Ship Date       Ship Mode Customer ID  \\\n",
       "0       1  CA-2017-152156  08/11/2017  11/11/2017    Second Class    CG-12520   \n",
       "1       2  CA-2017-152156  08/11/2017  11/11/2017    Second Class    CG-12520   \n",
       "2       3  CA-2017-138688  12/06/2017  16/06/2017    Second Class    DV-13045   \n",
       "3       4  US-2016-108966  11/10/2016  18/10/2016  Standard Class    SO-20335   \n",
       "4       5  US-2016-108966  11/10/2016  18/10/2016  Standard Class    SO-20335   \n",
       "\n",
       "     Customer Name    Segment        Country             City       State  \\\n",
       "0      Claire Gute   Consumer  United States        Henderson    Kentucky   \n",
       "1      Claire Gute   Consumer  United States        Henderson    Kentucky   \n",
       "2  Darrin Van Huff  Corporate  United States      Los Angeles  California   \n",
       "3   Sean O'Donnell   Consumer  United States  Fort Lauderdale     Florida   \n",
       "4   Sean O'Donnell   Consumer  United States  Fort Lauderdale     Florida   \n",
       "\n",
       "   Postal Code Region       Product ID         Category Sub-Category  \\\n",
       "0      42420.0  South  FUR-BO-10001798        Furniture    Bookcases   \n",
       "1      42420.0  South  FUR-CH-10000454        Furniture       Chairs   \n",
       "2      90036.0   West  OFF-LA-10000240  Office Supplies       Labels   \n",
       "3      33311.0  South  FUR-TA-10000577        Furniture       Tables   \n",
       "4      33311.0  South  OFF-ST-10000760  Office Supplies      Storage   \n",
       "\n",
       "                                        Product Name     Sales  \n",
       "0                  Bush Somerset Collection Bookcase  261.9600  \n",
       "1  Hon Deluxe Fabric Upholstered Stacking Chairs,...  731.9400  \n",
       "2  Self-Adhesive Address Labels for Typewriters b...   14.6200  \n",
       "3      Bretford CR4500 Series Slim Rectangular Table  957.5775  \n",
       "4                     Eldon Fold 'N Roll Cart System   22.3680  "
      ]
     },
     "execution_count": 3,
     "metadata": {},
     "output_type": "execute_result"
    }
   ],
   "source": [
    "sales.head()"
   ]
  },
  {
   "cell_type": "markdown",
   "id": "da439e58",
   "metadata": {
    "papermill": {
     "duration": 0.051112,
     "end_time": "2022-02-08T12:11:58.606394",
     "exception": false,
     "start_time": "2022-02-08T12:11:58.555282",
     "status": "completed"
    },
    "tags": []
   },
   "source": [
    "* Taking a quick look at our data"
   ]
  },
  {
   "cell_type": "code",
   "execution_count": 4,
   "id": "39958048",
   "metadata": {
    "execution": {
     "iopub.execute_input": "2022-02-08T12:11:58.714330Z",
     "iopub.status.busy": "2022-02-08T12:11:58.713583Z",
     "iopub.status.idle": "2022-02-08T12:11:58.716106Z",
     "shell.execute_reply": "2022-02-08T12:11:58.716710Z",
     "shell.execute_reply.started": "2022-02-08T12:10:42.731834Z"
    },
    "papermill": {
     "duration": 0.05965,
     "end_time": "2022-02-08T12:11:58.716885",
     "exception": false,
     "start_time": "2022-02-08T12:11:58.657235",
     "status": "completed"
    },
    "tags": []
   },
   "outputs": [
    {
     "data": {
      "text/plain": [
       "(9800, 18)"
      ]
     },
     "execution_count": 4,
     "metadata": {},
     "output_type": "execute_result"
    }
   ],
   "source": [
    "sales.shape"
   ]
  },
  {
   "cell_type": "markdown",
   "id": "e1348509",
   "metadata": {
    "papermill": {
     "duration": 0.049061,
     "end_time": "2022-02-08T12:11:58.817097",
     "exception": false,
     "start_time": "2022-02-08T12:11:58.768036",
     "status": "completed"
    },
    "tags": []
   },
   "source": [
    "* There are 9800 rows and 18 columns "
   ]
  },
  {
   "cell_type": "code",
   "execution_count": 5,
   "id": "4f89131b",
   "metadata": {
    "execution": {
     "iopub.execute_input": "2022-02-08T12:11:58.922606Z",
     "iopub.status.busy": "2022-02-08T12:11:58.921944Z",
     "iopub.status.idle": "2022-02-08T12:11:58.947056Z",
     "shell.execute_reply": "2022-02-08T12:11:58.946474Z",
     "shell.execute_reply.started": "2022-02-08T12:10:42.740085Z"
    },
    "papermill": {
     "duration": 0.079166,
     "end_time": "2022-02-08T12:11:58.947196",
     "exception": false,
     "start_time": "2022-02-08T12:11:58.868030",
     "status": "completed"
    },
    "tags": []
   },
   "outputs": [
    {
     "data": {
      "text/html": [
       "<div>\n",
       "<style scoped>\n",
       "    .dataframe tbody tr th:only-of-type {\n",
       "        vertical-align: middle;\n",
       "    }\n",
       "\n",
       "    .dataframe tbody tr th {\n",
       "        vertical-align: top;\n",
       "    }\n",
       "\n",
       "    .dataframe thead th {\n",
       "        text-align: right;\n",
       "    }\n",
       "</style>\n",
       "<table border=\"1\" class=\"dataframe\">\n",
       "  <thead>\n",
       "    <tr style=\"text-align: right;\">\n",
       "      <th></th>\n",
       "      <th>Order Date</th>\n",
       "      <th>Ship Date</th>\n",
       "      <th>Ship Mode</th>\n",
       "      <th>Segment</th>\n",
       "      <th>City</th>\n",
       "      <th>State</th>\n",
       "      <th>Region</th>\n",
       "      <th>Category</th>\n",
       "      <th>Sub-Category</th>\n",
       "      <th>Product Name</th>\n",
       "      <th>Sales</th>\n",
       "    </tr>\n",
       "  </thead>\n",
       "  <tbody>\n",
       "    <tr>\n",
       "      <th>0</th>\n",
       "      <td>08/11/2017</td>\n",
       "      <td>11/11/2017</td>\n",
       "      <td>Second Class</td>\n",
       "      <td>Consumer</td>\n",
       "      <td>Henderson</td>\n",
       "      <td>Kentucky</td>\n",
       "      <td>South</td>\n",
       "      <td>Furniture</td>\n",
       "      <td>Bookcases</td>\n",
       "      <td>Bush Somerset Collection Bookcase</td>\n",
       "      <td>261.9600</td>\n",
       "    </tr>\n",
       "    <tr>\n",
       "      <th>1</th>\n",
       "      <td>08/11/2017</td>\n",
       "      <td>11/11/2017</td>\n",
       "      <td>Second Class</td>\n",
       "      <td>Consumer</td>\n",
       "      <td>Henderson</td>\n",
       "      <td>Kentucky</td>\n",
       "      <td>South</td>\n",
       "      <td>Furniture</td>\n",
       "      <td>Chairs</td>\n",
       "      <td>Hon Deluxe Fabric Upholstered Stacking Chairs,...</td>\n",
       "      <td>731.9400</td>\n",
       "    </tr>\n",
       "    <tr>\n",
       "      <th>2</th>\n",
       "      <td>12/06/2017</td>\n",
       "      <td>16/06/2017</td>\n",
       "      <td>Second Class</td>\n",
       "      <td>Corporate</td>\n",
       "      <td>Los Angeles</td>\n",
       "      <td>California</td>\n",
       "      <td>West</td>\n",
       "      <td>Office Supplies</td>\n",
       "      <td>Labels</td>\n",
       "      <td>Self-Adhesive Address Labels for Typewriters b...</td>\n",
       "      <td>14.6200</td>\n",
       "    </tr>\n",
       "    <tr>\n",
       "      <th>3</th>\n",
       "      <td>11/10/2016</td>\n",
       "      <td>18/10/2016</td>\n",
       "      <td>Standard Class</td>\n",
       "      <td>Consumer</td>\n",
       "      <td>Fort Lauderdale</td>\n",
       "      <td>Florida</td>\n",
       "      <td>South</td>\n",
       "      <td>Furniture</td>\n",
       "      <td>Tables</td>\n",
       "      <td>Bretford CR4500 Series Slim Rectangular Table</td>\n",
       "      <td>957.5775</td>\n",
       "    </tr>\n",
       "    <tr>\n",
       "      <th>4</th>\n",
       "      <td>11/10/2016</td>\n",
       "      <td>18/10/2016</td>\n",
       "      <td>Standard Class</td>\n",
       "      <td>Consumer</td>\n",
       "      <td>Fort Lauderdale</td>\n",
       "      <td>Florida</td>\n",
       "      <td>South</td>\n",
       "      <td>Office Supplies</td>\n",
       "      <td>Storage</td>\n",
       "      <td>Eldon Fold 'N Roll Cart System</td>\n",
       "      <td>22.3680</td>\n",
       "    </tr>\n",
       "  </tbody>\n",
       "</table>\n",
       "</div>"
      ],
      "text/plain": [
       "   Order Date   Ship Date       Ship Mode    Segment             City  \\\n",
       "0  08/11/2017  11/11/2017    Second Class   Consumer        Henderson   \n",
       "1  08/11/2017  11/11/2017    Second Class   Consumer        Henderson   \n",
       "2  12/06/2017  16/06/2017    Second Class  Corporate      Los Angeles   \n",
       "3  11/10/2016  18/10/2016  Standard Class   Consumer  Fort Lauderdale   \n",
       "4  11/10/2016  18/10/2016  Standard Class   Consumer  Fort Lauderdale   \n",
       "\n",
       "        State Region         Category Sub-Category  \\\n",
       "0    Kentucky  South        Furniture    Bookcases   \n",
       "1    Kentucky  South        Furniture       Chairs   \n",
       "2  California   West  Office Supplies       Labels   \n",
       "3     Florida  South        Furniture       Tables   \n",
       "4     Florida  South  Office Supplies      Storage   \n",
       "\n",
       "                                        Product Name     Sales  \n",
       "0                  Bush Somerset Collection Bookcase  261.9600  \n",
       "1  Hon Deluxe Fabric Upholstered Stacking Chairs,...  731.9400  \n",
       "2  Self-Adhesive Address Labels for Typewriters b...   14.6200  \n",
       "3      Bretford CR4500 Series Slim Rectangular Table  957.5775  \n",
       "4                     Eldon Fold 'N Roll Cart System   22.3680  "
      ]
     },
     "execution_count": 5,
     "metadata": {},
     "output_type": "execute_result"
    }
   ],
   "source": [
    "sales = sales.drop(['Row ID', 'Order ID', 'Customer ID', 'Customer Name', 'Country', 'Postal Code', 'Product ID'], axis = 1)\n",
    "sales.head()"
   ]
  },
  {
   "cell_type": "markdown",
   "id": "43a58b69",
   "metadata": {
    "papermill": {
     "duration": 0.049648,
     "end_time": "2022-02-08T12:11:59.046830",
     "exception": false,
     "start_time": "2022-02-08T12:11:58.997182",
     "status": "completed"
    },
    "tags": []
   },
   "source": [
    "* Droping columns that i'm not using in my analysis"
   ]
  },
  {
   "cell_type": "code",
   "execution_count": 6,
   "id": "74176121",
   "metadata": {
    "execution": {
     "iopub.execute_input": "2022-02-08T12:11:59.150127Z",
     "iopub.status.busy": "2022-02-08T12:11:59.149232Z",
     "iopub.status.idle": "2022-02-08T12:11:59.155218Z",
     "shell.execute_reply": "2022-02-08T12:11:59.155853Z",
     "shell.execute_reply.started": "2022-02-08T12:10:42.762935Z"
    },
    "papermill": {
     "duration": 0.059181,
     "end_time": "2022-02-08T12:11:59.156030",
     "exception": false,
     "start_time": "2022-02-08T12:11:59.096849",
     "status": "completed"
    },
    "tags": []
   },
   "outputs": [],
   "source": [
    "sales.rename(columns = {'Order Date':'order_date', 'Ship Date':'ship_date', 'Ship Mode':'ship_mode', 'Segment':'segment', 'City':'city', 'State':'state', 'Region':'region', 'Category':'category', 'Sub-Category':'sub_category', 'Product Name':'product_name', 'Sales':'sales'}, inplace=True)"
   ]
  },
  {
   "cell_type": "markdown",
   "id": "59a11699",
   "metadata": {
    "papermill": {
     "duration": 0.050437,
     "end_time": "2022-02-08T12:11:59.257410",
     "exception": false,
     "start_time": "2022-02-08T12:11:59.206973",
     "status": "completed"
    },
    "tags": []
   },
   "source": [
    "* Rename the columns"
   ]
  },
  {
   "cell_type": "code",
   "execution_count": 7,
   "id": "67045f47",
   "metadata": {
    "execution": {
     "iopub.execute_input": "2022-02-08T12:11:59.365850Z",
     "iopub.status.busy": "2022-02-08T12:11:59.365111Z",
     "iopub.status.idle": "2022-02-08T12:11:59.381510Z",
     "shell.execute_reply": "2022-02-08T12:11:59.382170Z",
     "shell.execute_reply.started": "2022-02-08T12:10:42.769137Z"
    },
    "papermill": {
     "duration": 0.072749,
     "end_time": "2022-02-08T12:11:59.382380",
     "exception": false,
     "start_time": "2022-02-08T12:11:59.309631",
     "status": "completed"
    },
    "tags": []
   },
   "outputs": [
    {
     "data": {
      "text/html": [
       "<div>\n",
       "<style scoped>\n",
       "    .dataframe tbody tr th:only-of-type {\n",
       "        vertical-align: middle;\n",
       "    }\n",
       "\n",
       "    .dataframe tbody tr th {\n",
       "        vertical-align: top;\n",
       "    }\n",
       "\n",
       "    .dataframe thead th {\n",
       "        text-align: right;\n",
       "    }\n",
       "</style>\n",
       "<table border=\"1\" class=\"dataframe\">\n",
       "  <thead>\n",
       "    <tr style=\"text-align: right;\">\n",
       "      <th></th>\n",
       "      <th>order_date</th>\n",
       "      <th>ship_date</th>\n",
       "      <th>ship_mode</th>\n",
       "      <th>segment</th>\n",
       "      <th>city</th>\n",
       "      <th>state</th>\n",
       "      <th>region</th>\n",
       "      <th>category</th>\n",
       "      <th>sub_category</th>\n",
       "      <th>product_name</th>\n",
       "      <th>sales</th>\n",
       "    </tr>\n",
       "  </thead>\n",
       "  <tbody>\n",
       "    <tr>\n",
       "      <th>0</th>\n",
       "      <td>08/11/2017</td>\n",
       "      <td>11/11/2017</td>\n",
       "      <td>Second Class</td>\n",
       "      <td>Consumer</td>\n",
       "      <td>Henderson</td>\n",
       "      <td>Kentucky</td>\n",
       "      <td>South</td>\n",
       "      <td>Furniture</td>\n",
       "      <td>Bookcases</td>\n",
       "      <td>Bush Somerset Collection Bookcase</td>\n",
       "      <td>261.9600</td>\n",
       "    </tr>\n",
       "    <tr>\n",
       "      <th>1</th>\n",
       "      <td>08/11/2017</td>\n",
       "      <td>11/11/2017</td>\n",
       "      <td>Second Class</td>\n",
       "      <td>Consumer</td>\n",
       "      <td>Henderson</td>\n",
       "      <td>Kentucky</td>\n",
       "      <td>South</td>\n",
       "      <td>Furniture</td>\n",
       "      <td>Chairs</td>\n",
       "      <td>Hon Deluxe Fabric Upholstered Stacking Chairs,...</td>\n",
       "      <td>731.9400</td>\n",
       "    </tr>\n",
       "    <tr>\n",
       "      <th>2</th>\n",
       "      <td>12/06/2017</td>\n",
       "      <td>16/06/2017</td>\n",
       "      <td>Second Class</td>\n",
       "      <td>Corporate</td>\n",
       "      <td>Los Angeles</td>\n",
       "      <td>California</td>\n",
       "      <td>West</td>\n",
       "      <td>Office Supplies</td>\n",
       "      <td>Labels</td>\n",
       "      <td>Self-Adhesive Address Labels for Typewriters b...</td>\n",
       "      <td>14.6200</td>\n",
       "    </tr>\n",
       "    <tr>\n",
       "      <th>3</th>\n",
       "      <td>11/10/2016</td>\n",
       "      <td>18/10/2016</td>\n",
       "      <td>Standard Class</td>\n",
       "      <td>Consumer</td>\n",
       "      <td>Fort Lauderdale</td>\n",
       "      <td>Florida</td>\n",
       "      <td>South</td>\n",
       "      <td>Furniture</td>\n",
       "      <td>Tables</td>\n",
       "      <td>Bretford CR4500 Series Slim Rectangular Table</td>\n",
       "      <td>957.5775</td>\n",
       "    </tr>\n",
       "    <tr>\n",
       "      <th>4</th>\n",
       "      <td>11/10/2016</td>\n",
       "      <td>18/10/2016</td>\n",
       "      <td>Standard Class</td>\n",
       "      <td>Consumer</td>\n",
       "      <td>Fort Lauderdale</td>\n",
       "      <td>Florida</td>\n",
       "      <td>South</td>\n",
       "      <td>Office Supplies</td>\n",
       "      <td>Storage</td>\n",
       "      <td>Eldon Fold 'N Roll Cart System</td>\n",
       "      <td>22.3680</td>\n",
       "    </tr>\n",
       "  </tbody>\n",
       "</table>\n",
       "</div>"
      ],
      "text/plain": [
       "   order_date   ship_date       ship_mode    segment             city  \\\n",
       "0  08/11/2017  11/11/2017    Second Class   Consumer        Henderson   \n",
       "1  08/11/2017  11/11/2017    Second Class   Consumer        Henderson   \n",
       "2  12/06/2017  16/06/2017    Second Class  Corporate      Los Angeles   \n",
       "3  11/10/2016  18/10/2016  Standard Class   Consumer  Fort Lauderdale   \n",
       "4  11/10/2016  18/10/2016  Standard Class   Consumer  Fort Lauderdale   \n",
       "\n",
       "        state region         category sub_category  \\\n",
       "0    Kentucky  South        Furniture    Bookcases   \n",
       "1    Kentucky  South        Furniture       Chairs   \n",
       "2  California   West  Office Supplies       Labels   \n",
       "3     Florida  South        Furniture       Tables   \n",
       "4     Florida  South  Office Supplies      Storage   \n",
       "\n",
       "                                        product_name     sales  \n",
       "0                  Bush Somerset Collection Bookcase  261.9600  \n",
       "1  Hon Deluxe Fabric Upholstered Stacking Chairs,...  731.9400  \n",
       "2  Self-Adhesive Address Labels for Typewriters b...   14.6200  \n",
       "3      Bretford CR4500 Series Slim Rectangular Table  957.5775  \n",
       "4                     Eldon Fold 'N Roll Cart System   22.3680  "
      ]
     },
     "execution_count": 7,
     "metadata": {},
     "output_type": "execute_result"
    }
   ],
   "source": [
    "sales.head()"
   ]
  },
  {
   "cell_type": "code",
   "execution_count": 8,
   "id": "44886229",
   "metadata": {
    "execution": {
     "iopub.execute_input": "2022-02-08T12:11:59.503397Z",
     "iopub.status.busy": "2022-02-08T12:11:59.502649Z",
     "iopub.status.idle": "2022-02-08T12:11:59.508815Z",
     "shell.execute_reply": "2022-02-08T12:11:59.509337Z",
     "shell.execute_reply.started": "2022-02-08T12:10:42.793694Z"
    },
    "papermill": {
     "duration": 0.074369,
     "end_time": "2022-02-08T12:11:59.509562",
     "exception": false,
     "start_time": "2022-02-08T12:11:59.435193",
     "status": "completed"
    },
    "tags": []
   },
   "outputs": [
    {
     "data": {
      "text/plain": [
       "order_date      0\n",
       "ship_date       0\n",
       "ship_mode       0\n",
       "segment         0\n",
       "city            0\n",
       "state           0\n",
       "region          0\n",
       "category        0\n",
       "sub_category    0\n",
       "product_name    0\n",
       "sales           0\n",
       "dtype: int64"
      ]
     },
     "execution_count": 8,
     "metadata": {},
     "output_type": "execute_result"
    }
   ],
   "source": [
    "sales.isnull().sum()"
   ]
  },
  {
   "cell_type": "markdown",
   "id": "7edc02ef",
   "metadata": {
    "papermill": {
     "duration": 0.050773,
     "end_time": "2022-02-08T12:11:59.611487",
     "exception": false,
     "start_time": "2022-02-08T12:11:59.560714",
     "status": "completed"
    },
    "tags": []
   },
   "source": [
    "* No null values in the dataset"
   ]
  },
  {
   "cell_type": "code",
   "execution_count": 9,
   "id": "b9c4e280",
   "metadata": {
    "execution": {
     "iopub.execute_input": "2022-02-08T12:11:59.721320Z",
     "iopub.status.busy": "2022-02-08T12:11:59.720517Z",
     "iopub.status.idle": "2022-02-08T12:11:59.741653Z",
     "shell.execute_reply": "2022-02-08T12:11:59.742222Z",
     "shell.execute_reply.started": "2022-02-08T12:10:42.806846Z"
    },
    "papermill": {
     "duration": 0.079569,
     "end_time": "2022-02-08T12:11:59.742431",
     "exception": false,
     "start_time": "2022-02-08T12:11:59.662862",
     "status": "completed"
    },
    "tags": []
   },
   "outputs": [
    {
     "data": {
      "text/plain": [
       "1"
      ]
     },
     "execution_count": 9,
     "metadata": {},
     "output_type": "execute_result"
    }
   ],
   "source": [
    "sales.duplicated().sum()"
   ]
  },
  {
   "cell_type": "markdown",
   "id": "9ada31ea",
   "metadata": {
    "papermill": {
     "duration": 0.052118,
     "end_time": "2022-02-08T12:11:59.846791",
     "exception": false,
     "start_time": "2022-02-08T12:11:59.794673",
     "status": "completed"
    },
    "tags": []
   },
   "source": [
    "* there is 1 duplicated row"
   ]
  },
  {
   "cell_type": "code",
   "execution_count": 10,
   "id": "e6263fa7",
   "metadata": {
    "execution": {
     "iopub.execute_input": "2022-02-08T12:11:59.955858Z",
     "iopub.status.busy": "2022-02-08T12:11:59.955185Z",
     "iopub.status.idle": "2022-02-08T12:11:59.974172Z",
     "shell.execute_reply": "2022-02-08T12:11:59.974761Z",
     "shell.execute_reply.started": "2022-02-08T12:10:42.830847Z"
    },
    "papermill": {
     "duration": 0.075492,
     "end_time": "2022-02-08T12:11:59.975011",
     "exception": false,
     "start_time": "2022-02-08T12:11:59.899519",
     "status": "completed"
    },
    "tags": []
   },
   "outputs": [],
   "source": [
    "sales.drop_duplicates(inplace=True)"
   ]
  },
  {
   "cell_type": "markdown",
   "id": "61472aa7",
   "metadata": {
    "papermill": {
     "duration": 0.052009,
     "end_time": "2022-02-08T12:12:00.078690",
     "exception": false,
     "start_time": "2022-02-08T12:12:00.026681",
     "status": "completed"
    },
    "tags": []
   },
   "source": [
    "* Droping the duplicated row"
   ]
  },
  {
   "cell_type": "code",
   "execution_count": 11,
   "id": "5ab9fb96",
   "metadata": {
    "execution": {
     "iopub.execute_input": "2022-02-08T12:12:00.185442Z",
     "iopub.status.busy": "2022-02-08T12:12:00.184744Z",
     "iopub.status.idle": "2022-02-08T12:12:00.214549Z",
     "shell.execute_reply": "2022-02-08T12:12:00.213976Z",
     "shell.execute_reply.started": "2022-02-08T12:10:42.912601Z"
    },
    "papermill": {
     "duration": 0.084615,
     "end_time": "2022-02-08T12:12:00.214758",
     "exception": false,
     "start_time": "2022-02-08T12:12:00.130143",
     "status": "completed"
    },
    "tags": []
   },
   "outputs": [
    {
     "name": "stdout",
     "output_type": "stream",
     "text": [
      "<class 'pandas.core.frame.DataFrame'>\n",
      "Int64Index: 9799 entries, 0 to 9799\n",
      "Data columns (total 11 columns):\n",
      " #   Column        Non-Null Count  Dtype  \n",
      "---  ------        --------------  -----  \n",
      " 0   order_date    9799 non-null   object \n",
      " 1   ship_date     9799 non-null   object \n",
      " 2   ship_mode     9799 non-null   object \n",
      " 3   segment       9799 non-null   object \n",
      " 4   city          9799 non-null   object \n",
      " 5   state         9799 non-null   object \n",
      " 6   region        9799 non-null   object \n",
      " 7   category      9799 non-null   object \n",
      " 8   sub_category  9799 non-null   object \n",
      " 9   product_name  9799 non-null   object \n",
      " 10  sales         9799 non-null   float64\n",
      "dtypes: float64(1), object(10)\n",
      "memory usage: 918.7+ KB\n"
     ]
    }
   ],
   "source": [
    "sales.info()"
   ]
  },
  {
   "cell_type": "code",
   "execution_count": 12,
   "id": "1d0e37e2",
   "metadata": {
    "execution": {
     "iopub.execute_input": "2022-02-08T12:12:00.326442Z",
     "iopub.status.busy": "2022-02-08T12:12:00.325730Z",
     "iopub.status.idle": "2022-02-08T12:12:00.345300Z",
     "shell.execute_reply": "2022-02-08T12:12:00.344597Z",
     "shell.execute_reply.started": "2022-02-08T12:10:42.930273Z"
    },
    "papermill": {
     "duration": 0.078424,
     "end_time": "2022-02-08T12:12:00.345469",
     "exception": false,
     "start_time": "2022-02-08T12:12:00.267045",
     "status": "completed"
    },
    "tags": []
   },
   "outputs": [],
   "source": [
    "sales['order_date'] = pd.to_datetime(sales['order_date'])\n",
    "sales['ship_date'] = pd.to_datetime(sales['ship_date'])"
   ]
  },
  {
   "cell_type": "markdown",
   "id": "0211e01c",
   "metadata": {
    "papermill": {
     "duration": 0.052546,
     "end_time": "2022-02-08T12:12:00.451472",
     "exception": false,
     "start_time": "2022-02-08T12:12:00.398926",
     "status": "completed"
    },
    "tags": []
   },
   "source": [
    "* Changing the dtype of order date and ship date to datetime type"
   ]
  },
  {
   "cell_type": "code",
   "execution_count": 13,
   "id": "0ea6d20d",
   "metadata": {
    "execution": {
     "iopub.execute_input": "2022-02-08T12:12:00.562121Z",
     "iopub.status.busy": "2022-02-08T12:12:00.560950Z",
     "iopub.status.idle": "2022-02-08T12:12:00.583413Z",
     "shell.execute_reply": "2022-02-08T12:12:00.583968Z",
     "shell.execute_reply.started": "2022-02-08T12:10:42.951691Z"
    },
    "papermill": {
     "duration": 0.080434,
     "end_time": "2022-02-08T12:12:00.584169",
     "exception": false,
     "start_time": "2022-02-08T12:12:00.503735",
     "status": "completed"
    },
    "tags": []
   },
   "outputs": [
    {
     "name": "stdout",
     "output_type": "stream",
     "text": [
      "<class 'pandas.core.frame.DataFrame'>\n",
      "Int64Index: 9799 entries, 0 to 9799\n",
      "Data columns (total 11 columns):\n",
      " #   Column        Non-Null Count  Dtype         \n",
      "---  ------        --------------  -----         \n",
      " 0   order_date    9799 non-null   datetime64[ns]\n",
      " 1   ship_date     9799 non-null   datetime64[ns]\n",
      " 2   ship_mode     9799 non-null   object        \n",
      " 3   segment       9799 non-null   object        \n",
      " 4   city          9799 non-null   object        \n",
      " 5   state         9799 non-null   object        \n",
      " 6   region        9799 non-null   object        \n",
      " 7   category      9799 non-null   object        \n",
      " 8   sub_category  9799 non-null   object        \n",
      " 9   product_name  9799 non-null   object        \n",
      " 10  sales         9799 non-null   float64       \n",
      "dtypes: datetime64[ns](2), float64(1), object(8)\n",
      "memory usage: 918.7+ KB\n"
     ]
    }
   ],
   "source": [
    "sales.info()"
   ]
  },
  {
   "cell_type": "code",
   "execution_count": 14,
   "id": "e60a348b",
   "metadata": {
    "execution": {
     "iopub.execute_input": "2022-02-08T12:12:00.692305Z",
     "iopub.status.busy": "2022-02-08T12:12:00.691281Z",
     "iopub.status.idle": "2022-02-08T12:12:00.703094Z",
     "shell.execute_reply": "2022-02-08T12:12:00.703721Z",
     "shell.execute_reply.started": "2022-02-08T12:10:42.972967Z"
    },
    "papermill": {
     "duration": 0.067927,
     "end_time": "2022-02-08T12:12:00.703938",
     "exception": false,
     "start_time": "2022-02-08T12:12:00.636011",
     "status": "completed"
    },
    "tags": []
   },
   "outputs": [],
   "source": [
    "sales['order_year'] = sales['order_date'].dt.year\n",
    "sales['order_month'] = sales['order_date'].dt.month_name()"
   ]
  },
  {
   "cell_type": "markdown",
   "id": "98093a74",
   "metadata": {
    "papermill": {
     "duration": 0.052925,
     "end_time": "2022-02-08T12:12:00.809318",
     "exception": false,
     "start_time": "2022-02-08T12:12:00.756393",
     "status": "completed"
    },
    "tags": []
   },
   "source": [
    "* Extracting the month and year to new columns from order date column"
   ]
  },
  {
   "cell_type": "markdown",
   "id": "b6415c9a",
   "metadata": {
    "papermill": {
     "duration": 0.053559,
     "end_time": "2022-02-08T12:12:00.914696",
     "exception": false,
     "start_time": "2022-02-08T12:12:00.861137",
     "status": "completed"
    },
    "tags": []
   },
   "source": [
    "# Top 10 cities in sales"
   ]
  },
  {
   "cell_type": "code",
   "execution_count": 15,
   "id": "540a4d9c",
   "metadata": {
    "execution": {
     "iopub.execute_input": "2022-02-08T12:12:01.022415Z",
     "iopub.status.busy": "2022-02-08T12:12:01.021344Z",
     "iopub.status.idle": "2022-02-08T12:12:01.049244Z",
     "shell.execute_reply": "2022-02-08T12:12:01.049907Z",
     "shell.execute_reply.started": "2022-02-08T12:10:42.987131Z"
    },
    "papermill": {
     "duration": 0.083671,
     "end_time": "2022-02-08T12:12:01.050120",
     "exception": false,
     "start_time": "2022-02-08T12:12:00.966449",
     "status": "completed"
    },
    "tags": []
   },
   "outputs": [
    {
     "data": {
      "text/html": [
       "<div>\n",
       "<style scoped>\n",
       "    .dataframe tbody tr th:only-of-type {\n",
       "        vertical-align: middle;\n",
       "    }\n",
       "\n",
       "    .dataframe tbody tr th {\n",
       "        vertical-align: top;\n",
       "    }\n",
       "\n",
       "    .dataframe thead th {\n",
       "        text-align: right;\n",
       "    }\n",
       "</style>\n",
       "<table border=\"1\" class=\"dataframe\">\n",
       "  <thead>\n",
       "    <tr style=\"text-align: right;\">\n",
       "      <th></th>\n",
       "      <th>city</th>\n",
       "      <th>sales</th>\n",
       "    </tr>\n",
       "  </thead>\n",
       "  <tbody>\n",
       "    <tr>\n",
       "      <th>327</th>\n",
       "      <td>New York City</td>\n",
       "      <td>252462.5470</td>\n",
       "    </tr>\n",
       "    <tr>\n",
       "      <th>265</th>\n",
       "      <td>Los Angeles</td>\n",
       "      <td>173420.1810</td>\n",
       "    </tr>\n",
       "    <tr>\n",
       "      <th>450</th>\n",
       "      <td>Seattle</td>\n",
       "      <td>116106.3220</td>\n",
       "    </tr>\n",
       "    <tr>\n",
       "      <th>436</th>\n",
       "      <td>San Francisco</td>\n",
       "      <td>109041.1200</td>\n",
       "    </tr>\n",
       "    <tr>\n",
       "      <th>372</th>\n",
       "      <td>Philadelphia</td>\n",
       "      <td>108841.7490</td>\n",
       "    </tr>\n",
       "    <tr>\n",
       "      <th>207</th>\n",
       "      <td>Houston</td>\n",
       "      <td>63956.1428</td>\n",
       "    </tr>\n",
       "    <tr>\n",
       "      <th>80</th>\n",
       "      <td>Chicago</td>\n",
       "      <td>47820.1330</td>\n",
       "    </tr>\n",
       "    <tr>\n",
       "      <th>435</th>\n",
       "      <td>San Diego</td>\n",
       "      <td>47521.0290</td>\n",
       "    </tr>\n",
       "    <tr>\n",
       "      <th>216</th>\n",
       "      <td>Jacksonville</td>\n",
       "      <td>44713.1830</td>\n",
       "    </tr>\n",
       "    <tr>\n",
       "      <th>123</th>\n",
       "      <td>Detroit</td>\n",
       "      <td>42446.9440</td>\n",
       "    </tr>\n",
       "  </tbody>\n",
       "</table>\n",
       "</div>"
      ],
      "text/plain": [
       "              city        sales\n",
       "327  New York City  252462.5470\n",
       "265    Los Angeles  173420.1810\n",
       "450        Seattle  116106.3220\n",
       "436  San Francisco  109041.1200\n",
       "372   Philadelphia  108841.7490\n",
       "207        Houston   63956.1428\n",
       "80         Chicago   47820.1330\n",
       "435      San Diego   47521.0290\n",
       "216   Jacksonville   44713.1830\n",
       "123        Detroit   42446.9440"
      ]
     },
     "execution_count": 15,
     "metadata": {},
     "output_type": "execute_result"
    }
   ],
   "source": [
    "#creating a dataframe for top 10 cities in sales\n",
    "city_sales=pd.DataFrame(sales.groupby(sales['city']).sum()['sales']).reset_index()\n",
    "city_sales = city_sales.nlargest(10, 'sales')\n",
    "city_sales.head(10)"
   ]
  },
  {
   "cell_type": "code",
   "execution_count": 16,
   "id": "c7c2d0c2",
   "metadata": {
    "execution": {
     "iopub.execute_input": "2022-02-08T12:12:01.160951Z",
     "iopub.status.busy": "2022-02-08T12:12:01.159762Z",
     "iopub.status.idle": "2022-02-08T12:12:01.553868Z",
     "shell.execute_reply": "2022-02-08T12:12:01.554502Z",
     "shell.execute_reply.started": "2022-02-08T12:10:43.008805Z"
    },
    "papermill": {
     "duration": 0.451045,
     "end_time": "2022-02-08T12:12:01.554751",
     "exception": false,
     "start_time": "2022-02-08T12:12:01.103706",
     "status": "completed"
    },
    "tags": []
   },
   "outputs": [
    {
     "data": {
      "image/png": "[encoded data removed]",
      "text/plain": [
       "<Figure size 1440x576 with 1 Axes>"
      ]
     },
     "metadata": {},
     "output_type": "display_data"
    }
   ],
   "source": [
    "sns.set(font_scale=1.3)\n",
    "plt.figure(figsize=(20,8));\n",
    "plt.title('Top 10 city sales')\n",
    "sns.set_style('darkgrid')\n",
    "sns.barplot(x='sales', y='city',data = city_sales);"
   ]
  },
  {
   "cell_type": "markdown",
   "id": "641ccf52",
   "metadata": {
    "papermill": {
     "duration": 0.053486,
     "end_time": "2022-02-08T12:12:01.661884",
     "exception": false,
     "start_time": "2022-02-08T12:12:01.608398",
     "status": "completed"
    },
    "tags": []
   },
   "source": [
    "# Which segment generate sales the most ?"
   ]
  },
  {
   "cell_type": "code",
   "execution_count": 17,
   "id": "d718f08b",
   "metadata": {
    "execution": {
     "iopub.execute_input": "2022-02-08T12:12:01.778780Z",
     "iopub.status.busy": "2022-02-08T12:12:01.777948Z",
     "iopub.status.idle": "2022-02-08T12:12:01.794287Z",
     "shell.execute_reply": "2022-02-08T12:12:01.794929Z",
     "shell.execute_reply.started": "2022-02-08T12:10:43.325547Z"
    },
    "papermill": {
     "duration": 0.078847,
     "end_time": "2022-02-08T12:12:01.795133",
     "exception": false,
     "start_time": "2022-02-08T12:12:01.716286",
     "status": "completed"
    },
    "tags": []
   },
   "outputs": [
    {
     "data": {
      "text/html": [
       "<div>\n",
       "<style scoped>\n",
       "    .dataframe tbody tr th:only-of-type {\n",
       "        vertical-align: middle;\n",
       "    }\n",
       "\n",
       "    .dataframe tbody tr th {\n",
       "        vertical-align: top;\n",
       "    }\n",
       "\n",
       "    .dataframe thead th {\n",
       "        text-align: right;\n",
       "    }\n",
       "</style>\n",
       "<table border=\"1\" class=\"dataframe\">\n",
       "  <thead>\n",
       "    <tr style=\"text-align: right;\">\n",
       "      <th></th>\n",
       "      <th>segment</th>\n",
       "      <th>sales</th>\n",
       "    </tr>\n",
       "  </thead>\n",
       "  <tbody>\n",
       "    <tr>\n",
       "      <th>0</th>\n",
       "      <td>Consumer</td>\n",
       "      <td>1.148061e+06</td>\n",
       "    </tr>\n",
       "    <tr>\n",
       "      <th>1</th>\n",
       "      <td>Corporate</td>\n",
       "      <td>6.884941e+05</td>\n",
       "    </tr>\n",
       "    <tr>\n",
       "      <th>2</th>\n",
       "      <td>Home Office</td>\n",
       "      <td>4.247008e+05</td>\n",
       "    </tr>\n",
       "  </tbody>\n",
       "</table>\n",
       "</div>"
      ],
      "text/plain": [
       "       segment         sales\n",
       "0     Consumer  1.148061e+06\n",
       "1    Corporate  6.884941e+05\n",
       "2  Home Office  4.247008e+05"
      ]
     },
     "execution_count": 17,
     "metadata": {},
     "output_type": "execute_result"
    }
   ],
   "source": [
    "segment_sales = pd.DataFrame(sales.groupby(sales['segment']).sum()['sales']).reset_index()\n",
    "segment_sales = segment_sales.nlargest(3, 'sales')\n",
    "segment_sales.head()"
   ]
  },
  {
   "cell_type": "code",
   "execution_count": 18,
   "id": "443f5037",
   "metadata": {
    "execution": {
     "iopub.execute_input": "2022-02-08T12:12:01.925868Z",
     "iopub.status.busy": "2022-02-08T12:12:01.920965Z",
     "iopub.status.idle": "2022-02-08T12:12:02.174699Z",
     "shell.execute_reply": "2022-02-08T12:12:02.175371Z",
     "shell.execute_reply.started": "2022-02-08T12:10:43.347118Z"
    },
    "papermill": {
     "duration": 0.32546,
     "end_time": "2022-02-08T12:12:02.175607",
     "exception": false,
     "start_time": "2022-02-08T12:12:01.850147",
     "status": "completed"
    },
    "tags": []
   },
   "outputs": [
    {
     "data": {
      "image/png": "[encoded data removed]",
      "text/plain": [
       "<Figure size 1296x576 with 1 Axes>"
      ]
     },
     "metadata": {},
     "output_type": "display_data"
    }
   ],
   "source": [
    "sns.set(font_scale=1.3)\n",
    "sns.set_style(\"darkgrid\")\n",
    "plt.figure(figsize=(18,8));\n",
    "plt.title('Sales Per segment')\n",
    "sns.barplot(x='segment', y='sales',data = segment_sales, palette = 'Dark2');"
   ]
  },
  {
   "cell_type": "markdown",
   "id": "d8b79da3",
   "metadata": {
    "papermill": {
     "duration": 0.058003,
     "end_time": "2022-02-08T12:12:02.289661",
     "exception": false,
     "start_time": "2022-02-08T12:12:02.231658",
     "status": "completed"
    },
    "tags": []
   },
   "source": [
    "# Which region generate sales the most ?"
   ]
  },
  {
   "cell_type": "code",
   "execution_count": 19,
   "id": "01995b5d",
   "metadata": {
    "execution": {
     "iopub.execute_input": "2022-02-08T12:12:02.409453Z",
     "iopub.status.busy": "2022-02-08T12:12:02.408668Z",
     "iopub.status.idle": "2022-02-08T12:12:02.420888Z",
     "shell.execute_reply": "2022-02-08T12:12:02.421441Z",
     "shell.execute_reply.started": "2022-02-08T12:10:43.577648Z"
    },
    "papermill": {
     "duration": 0.075846,
     "end_time": "2022-02-08T12:12:02.421664",
     "exception": false,
     "start_time": "2022-02-08T12:12:02.345818",
     "status": "completed"
    },
    "tags": []
   },
   "outputs": [
    {
     "data": {
      "text/html": [
       "<div>\n",
       "<style scoped>\n",
       "    .dataframe tbody tr th:only-of-type {\n",
       "        vertical-align: middle;\n",
       "    }\n",
       "\n",
       "    .dataframe tbody tr th {\n",
       "        vertical-align: top;\n",
       "    }\n",
       "\n",
       "    .dataframe thead th {\n",
       "        text-align: right;\n",
       "    }\n",
       "</style>\n",
       "<table border=\"1\" class=\"dataframe\">\n",
       "  <thead>\n",
       "    <tr style=\"text-align: right;\">\n",
       "      <th></th>\n",
       "      <th>region</th>\n",
       "      <th>sales</th>\n",
       "    </tr>\n",
       "  </thead>\n",
       "  <tbody>\n",
       "    <tr>\n",
       "      <th>3</th>\n",
       "      <td>West</td>\n",
       "      <td>710219.6845</td>\n",
       "    </tr>\n",
       "    <tr>\n",
       "      <th>1</th>\n",
       "      <td>East</td>\n",
       "      <td>669237.3540</td>\n",
       "    </tr>\n",
       "    <tr>\n",
       "      <th>0</th>\n",
       "      <td>Central</td>\n",
       "      <td>492646.9132</td>\n",
       "    </tr>\n",
       "    <tr>\n",
       "      <th>2</th>\n",
       "      <td>South</td>\n",
       "      <td>389151.4590</td>\n",
       "    </tr>\n",
       "  </tbody>\n",
       "</table>\n",
       "</div>"
      ],
      "text/plain": [
       "    region        sales\n",
       "3     West  710219.6845\n",
       "1     East  669237.3540\n",
       "0  Central  492646.9132\n",
       "2    South  389151.4590"
      ]
     },
     "execution_count": 19,
     "metadata": {},
     "output_type": "execute_result"
    }
   ],
   "source": [
    "region_sales = pd.DataFrame(sales.groupby(sales['region'])['sales'].sum()).reset_index()\n",
    "region_sales = region_sales.nlargest(4, 'sales')\n",
    "region_sales.head()"
   ]
  },
  {
   "cell_type": "code",
   "execution_count": 20,
   "id": "26898f46",
   "metadata": {
    "execution": {
     "iopub.execute_input": "2022-02-08T12:12:02.559553Z",
     "iopub.status.busy": "2022-02-08T12:12:02.542750Z",
     "iopub.status.idle": "2022-02-08T12:12:02.807936Z",
     "shell.execute_reply": "2022-02-08T12:12:02.808499Z",
     "shell.execute_reply.started": "2022-02-08T12:10:43.595383Z"
    },
    "papermill": {
     "duration": 0.330892,
     "end_time": "2022-02-08T12:12:02.808741",
     "exception": false,
     "start_time": "2022-02-08T12:12:02.477849",
     "status": "completed"
    },
    "tags": []
   },
   "outputs": [
    {
     "data": {
      "image/png": "[encoded data removed]",
      "text/plain": [
       "<Figure size 1296x576 with 1 Axes>"
      ]
     },
     "metadata": {},
     "output_type": "display_data"
    }
   ],
   "source": [
    "sns.set(font_scale=1.3)\n",
    "sns.set_style(\"darkgrid\")\n",
    "plt.figure(figsize=(18,8));\n",
    "plt.title('Sales Per region')\n",
    "sns.barplot(x='region', y='sales',data = region_sales, palette = 'Dark2');"
   ]
  },
  {
   "cell_type": "markdown",
   "id": "b9608264",
   "metadata": {
    "papermill": {
     "duration": 0.058407,
     "end_time": "2022-02-08T12:12:02.925108",
     "exception": false,
     "start_time": "2022-02-08T12:12:02.866701",
     "status": "completed"
    },
    "tags": []
   },
   "source": [
    "# Which category generate sales the most ? "
   ]
  },
  {
   "cell_type": "code",
   "execution_count": 21,
   "id": "4497b231",
   "metadata": {
    "execution": {
     "iopub.execute_input": "2022-02-08T12:12:03.044127Z",
     "iopub.status.busy": "2022-02-08T12:12:03.043367Z",
     "iopub.status.idle": "2022-02-08T12:12:03.052890Z",
     "shell.execute_reply": "2022-02-08T12:12:03.053345Z",
     "shell.execute_reply.started": "2022-02-08T12:10:43.837669Z"
    },
    "papermill": {
     "duration": 0.071253,
     "end_time": "2022-02-08T12:12:03.053582",
     "exception": false,
     "start_time": "2022-02-08T12:12:02.982329",
     "status": "completed"
    },
    "tags": []
   },
   "outputs": [
    {
     "data": {
      "text/plain": [
       "Office Supplies    5909\n",
       "Furniture          2077\n",
       "Technology         1813\n",
       "Name: category, dtype: int64"
      ]
     },
     "execution_count": 21,
     "metadata": {},
     "output_type": "execute_result"
    }
   ],
   "source": [
    "sales['category'].value_counts()"
   ]
  },
  {
   "cell_type": "code",
   "execution_count": 22,
   "id": "2ba9dbfb",
   "metadata": {
    "execution": {
     "iopub.execute_input": "2022-02-08T12:12:03.171828Z",
     "iopub.status.busy": "2022-02-08T12:12:03.171039Z",
     "iopub.status.idle": "2022-02-08T12:12:03.187513Z",
     "shell.execute_reply": "2022-02-08T12:12:03.186756Z",
     "shell.execute_reply.started": "2022-02-08T12:10:43.847189Z"
    },
    "papermill": {
     "duration": 0.077088,
     "end_time": "2022-02-08T12:12:03.187714",
     "exception": false,
     "start_time": "2022-02-08T12:12:03.110626",
     "status": "completed"
    },
    "tags": []
   },
   "outputs": [
    {
     "data": {
      "text/html": [
       "<div>\n",
       "<style scoped>\n",
       "    .dataframe tbody tr th:only-of-type {\n",
       "        vertical-align: middle;\n",
       "    }\n",
       "\n",
       "    .dataframe tbody tr th {\n",
       "        vertical-align: top;\n",
       "    }\n",
       "\n",
       "    .dataframe thead th {\n",
       "        text-align: right;\n",
       "    }\n",
       "</style>\n",
       "<table border=\"1\" class=\"dataframe\">\n",
       "  <thead>\n",
       "    <tr style=\"text-align: right;\">\n",
       "      <th></th>\n",
       "      <th>category</th>\n",
       "      <th>sales</th>\n",
       "    </tr>\n",
       "  </thead>\n",
       "  <tbody>\n",
       "    <tr>\n",
       "      <th>2</th>\n",
       "      <td>Technology</td>\n",
       "      <td>827455.8730</td>\n",
       "    </tr>\n",
       "    <tr>\n",
       "      <th>0</th>\n",
       "      <td>Furniture</td>\n",
       "      <td>728377.2037</td>\n",
       "    </tr>\n",
       "    <tr>\n",
       "      <th>1</th>\n",
       "      <td>Office Supplies</td>\n",
       "      <td>705422.3340</td>\n",
       "    </tr>\n",
       "  </tbody>\n",
       "</table>\n",
       "</div>"
      ],
      "text/plain": [
       "          category        sales\n",
       "2       Technology  827455.8730\n",
       "0        Furniture  728377.2037\n",
       "1  Office Supplies  705422.3340"
      ]
     },
     "execution_count": 22,
     "metadata": {},
     "output_type": "execute_result"
    }
   ],
   "source": [
    "category_sales = pd.DataFrame(sales.groupby(sales['category'])['sales'].sum()).reset_index()\n",
    "category_sales = category_sales.nlargest(3, 'sales')\n",
    "category_sales.head()"
   ]
  },
  {
   "cell_type": "code",
   "execution_count": 23,
   "id": "29c77ce6",
   "metadata": {
    "execution": {
     "iopub.execute_input": "2022-02-08T12:12:03.311220Z",
     "iopub.status.busy": "2022-02-08T12:12:03.310328Z",
     "iopub.status.idle": "2022-02-08T12:12:03.569970Z",
     "shell.execute_reply": "2022-02-08T12:12:03.569102Z",
     "shell.execute_reply.started": "2022-02-08T12:10:43.870571Z"
    },
    "papermill": {
     "duration": 0.32405,
     "end_time": "2022-02-08T12:12:03.570150",
     "exception": false,
     "start_time": "2022-02-08T12:12:03.246100",
     "status": "completed"
    },
    "tags": []
   },
   "outputs": [
    {
     "data": {
      "image/png": "[encoded data removed]",
      "text/plain": [
       "<Figure size 1296x576 with 1 Axes>"
      ]
     },
     "metadata": {},
     "output_type": "display_data"
    }
   ],
   "source": [
    "sns.set(font_scale=1.3)\n",
    "sns.set_style(\"darkgrid\")\n",
    "plt.figure(figsize=(18,8));\n",
    "plt.title('Sales Per category')\n",
    "sns.barplot(x='category', y='sales',data = category_sales, palette = 'Dark2');"
   ]
  },
  {
   "cell_type": "markdown",
   "id": "ebacf56e",
   "metadata": {
    "papermill": {
     "duration": 0.058582,
     "end_time": "2022-02-08T12:12:03.689068",
     "exception": false,
     "start_time": "2022-02-08T12:12:03.630486",
     "status": "completed"
    },
    "tags": []
   },
   "source": [
    "# which sub category generate sales the most ?"
   ]
  },
  {
   "cell_type": "code",
   "execution_count": 24,
   "id": "7d651ba2",
   "metadata": {
    "execution": {
     "iopub.execute_input": "2022-02-08T12:12:03.817181Z",
     "iopub.status.busy": "2022-02-08T12:12:03.816322Z",
     "iopub.status.idle": "2022-02-08T12:12:03.820423Z",
     "shell.execute_reply": "2022-02-08T12:12:03.819867Z",
     "shell.execute_reply.started": "2022-02-08T12:10:44.118175Z"
    },
    "papermill": {
     "duration": 0.07228,
     "end_time": "2022-02-08T12:12:03.820614",
     "exception": false,
     "start_time": "2022-02-08T12:12:03.748334",
     "status": "completed"
    },
    "tags": []
   },
   "outputs": [
    {
     "data": {
      "text/plain": [
       "Binders        1492\n",
       "Paper          1338\n",
       "Furnishings     931\n",
       "Phones          876\n",
       "Storage         832\n",
       "Art             785\n",
       "Accessories     756\n",
       "Chairs          606\n",
       "Appliances      459\n",
       "Labels          357\n",
       "Tables          314\n",
       "Envelopes       248\n",
       "Bookcases       226\n",
       "Fasteners       214\n",
       "Supplies        184\n",
       "Machines        115\n",
       "Copiers          66\n",
       "Name: sub_category, dtype: int64"
      ]
     },
     "execution_count": 24,
     "metadata": {},
     "output_type": "execute_result"
    }
   ],
   "source": [
    "sales['sub_category'].value_counts()"
   ]
  },
  {
   "cell_type": "code",
   "execution_count": 25,
   "id": "cf3fa3ab",
   "metadata": {
    "execution": {
     "iopub.execute_input": "2022-02-08T12:12:03.947832Z",
     "iopub.status.busy": "2022-02-08T12:12:03.944159Z",
     "iopub.status.idle": "2022-02-08T12:12:03.961142Z",
     "shell.execute_reply": "2022-02-08T12:12:03.960476Z",
     "shell.execute_reply.started": "2022-02-08T12:10:44.128601Z"
    },
    "papermill": {
     "duration": 0.081098,
     "end_time": "2022-02-08T12:12:03.961295",
     "exception": false,
     "start_time": "2022-02-08T12:12:03.880197",
     "status": "completed"
    },
    "tags": []
   },
   "outputs": [
    {
     "data": {
      "text/html": [
       "<div>\n",
       "<style scoped>\n",
       "    .dataframe tbody tr th:only-of-type {\n",
       "        vertical-align: middle;\n",
       "    }\n",
       "\n",
       "    .dataframe tbody tr th {\n",
       "        vertical-align: top;\n",
       "    }\n",
       "\n",
       "    .dataframe thead th {\n",
       "        text-align: right;\n",
       "    }\n",
       "</style>\n",
       "<table border=\"1\" class=\"dataframe\">\n",
       "  <thead>\n",
       "    <tr style=\"text-align: right;\">\n",
       "      <th></th>\n",
       "      <th>sub_category</th>\n",
       "      <th>sales</th>\n",
       "    </tr>\n",
       "  </thead>\n",
       "  <tbody>\n",
       "    <tr>\n",
       "      <th>13</th>\n",
       "      <td>Phones</td>\n",
       "      <td>327782.4480</td>\n",
       "    </tr>\n",
       "    <tr>\n",
       "      <th>5</th>\n",
       "      <td>Chairs</td>\n",
       "      <td>322541.3590</td>\n",
       "    </tr>\n",
       "    <tr>\n",
       "      <th>14</th>\n",
       "      <td>Storage</td>\n",
       "      <td>219343.3920</td>\n",
       "    </tr>\n",
       "    <tr>\n",
       "      <th>16</th>\n",
       "      <td>Tables</td>\n",
       "      <td>202810.6280</td>\n",
       "    </tr>\n",
       "    <tr>\n",
       "      <th>3</th>\n",
       "      <td>Binders</td>\n",
       "      <td>200028.7850</td>\n",
       "    </tr>\n",
       "    <tr>\n",
       "      <th>11</th>\n",
       "      <td>Machines</td>\n",
       "      <td>189238.6310</td>\n",
       "    </tr>\n",
       "    <tr>\n",
       "      <th>0</th>\n",
       "      <td>Accessories</td>\n",
       "      <td>164186.7000</td>\n",
       "    </tr>\n",
       "    <tr>\n",
       "      <th>6</th>\n",
       "      <td>Copiers</td>\n",
       "      <td>146248.0940</td>\n",
       "    </tr>\n",
       "    <tr>\n",
       "      <th>4</th>\n",
       "      <td>Bookcases</td>\n",
       "      <td>113813.1987</td>\n",
       "    </tr>\n",
       "    <tr>\n",
       "      <th>1</th>\n",
       "      <td>Appliances</td>\n",
       "      <td>104618.4030</td>\n",
       "    </tr>\n",
       "  </tbody>\n",
       "</table>\n",
       "</div>"
      ],
      "text/plain": [
       "   sub_category        sales\n",
       "13       Phones  327782.4480\n",
       "5        Chairs  322541.3590\n",
       "14      Storage  219343.3920\n",
       "16       Tables  202810.6280\n",
       "3       Binders  200028.7850\n",
       "11     Machines  189238.6310\n",
       "0   Accessories  164186.7000\n",
       "6       Copiers  146248.0940\n",
       "4     Bookcases  113813.1987\n",
       "1    Appliances  104618.4030"
      ]
     },
     "execution_count": 25,
     "metadata": {},
     "output_type": "execute_result"
    }
   ],
   "source": [
    "sub_category_sales = pd.DataFrame(sales.groupby(sales['sub_category'])['sales'].sum()).reset_index()\n",
    "sub_category_sales = sub_category_sales.nlargest(10, 'sales')\n",
    "sub_category_sales.head(10)"
   ]
  },
  {
   "cell_type": "code",
   "execution_count": 26,
   "id": "b2f18b06",
   "metadata": {
    "execution": {
     "iopub.execute_input": "2022-02-08T12:12:04.103460Z",
     "iopub.status.busy": "2022-02-08T12:12:04.086395Z",
     "iopub.status.idle": "2022-02-08T12:12:04.414775Z",
     "shell.execute_reply": "2022-02-08T12:12:04.415335Z",
     "shell.execute_reply.started": "2022-02-08T12:10:44.150019Z"
    },
    "papermill": {
     "duration": 0.39382,
     "end_time": "2022-02-08T12:12:04.415565",
     "exception": false,
     "start_time": "2022-02-08T12:12:04.021745",
     "status": "completed"
    },
    "tags": []
   },
   "outputs": [
    {
     "data": {
      "image/png": "[encoded data removed]",
      "text/plain": [
       "<Figure size 1296x576 with 1 Axes>"
      ]
     },
     "metadata": {},
     "output_type": "display_data"
    }
   ],
   "source": [
    "sns.set(font_scale=1.3)\n",
    "sns.set_style(\"darkgrid\")\n",
    "plt.figure(figsize=(18,8));\n",
    "plt.title('Sales Per sub category')\n",
    "sns.barplot(x='sub_category', y='sales',data = sub_category_sales, palette = 'Dark2');"
   ]
  },
  {
   "cell_type": "markdown",
   "id": "385620e9",
   "metadata": {
    "papermill": {
     "duration": 0.060887,
     "end_time": "2022-02-08T12:12:04.537990",
     "exception": false,
     "start_time": "2022-02-08T12:12:04.477103",
     "status": "completed"
    },
    "tags": []
   },
   "source": [
    "# Which state generate sales the most ?"
   ]
  },
  {
   "cell_type": "code",
   "execution_count": 27,
   "id": "bce7a57e",
   "metadata": {
    "execution": {
     "iopub.execute_input": "2022-02-08T12:12:04.671912Z",
     "iopub.status.busy": "2022-02-08T12:12:04.670699Z",
     "iopub.status.idle": "2022-02-08T12:12:04.688664Z",
     "shell.execute_reply": "2022-02-08T12:12:04.687948Z",
     "shell.execute_reply.started": "2022-02-08T12:10:44.460425Z"
    },
    "papermill": {
     "duration": 0.087321,
     "end_time": "2022-02-08T12:12:04.688829",
     "exception": false,
     "start_time": "2022-02-08T12:12:04.601508",
     "status": "completed"
    },
    "tags": []
   },
   "outputs": [
    {
     "data": {
      "text/html": [
       "<div>\n",
       "<style scoped>\n",
       "    .dataframe tbody tr th:only-of-type {\n",
       "        vertical-align: middle;\n",
       "    }\n",
       "\n",
       "    .dataframe tbody tr th {\n",
       "        vertical-align: top;\n",
       "    }\n",
       "\n",
       "    .dataframe thead th {\n",
       "        text-align: right;\n",
       "    }\n",
       "</style>\n",
       "<table border=\"1\" class=\"dataframe\">\n",
       "  <thead>\n",
       "    <tr style=\"text-align: right;\">\n",
       "      <th></th>\n",
       "      <th>state</th>\n",
       "      <th>sales</th>\n",
       "    </tr>\n",
       "  </thead>\n",
       "  <tbody>\n",
       "    <tr>\n",
       "      <th>3</th>\n",
       "      <td>California</td>\n",
       "      <td>446306.4635</td>\n",
       "    </tr>\n",
       "    <tr>\n",
       "      <th>30</th>\n",
       "      <td>New York</td>\n",
       "      <td>306361.1470</td>\n",
       "    </tr>\n",
       "    <tr>\n",
       "      <th>41</th>\n",
       "      <td>Texas</td>\n",
       "      <td>168572.5322</td>\n",
       "    </tr>\n",
       "    <tr>\n",
       "      <th>45</th>\n",
       "      <td>Washington</td>\n",
       "      <td>135206.8500</td>\n",
       "    </tr>\n",
       "    <tr>\n",
       "      <th>36</th>\n",
       "      <td>Pennsylvania</td>\n",
       "      <td>116276.6500</td>\n",
       "    </tr>\n",
       "    <tr>\n",
       "      <th>8</th>\n",
       "      <td>Florida</td>\n",
       "      <td>88436.5320</td>\n",
       "    </tr>\n",
       "    <tr>\n",
       "      <th>11</th>\n",
       "      <td>Illinois</td>\n",
       "      <td>79236.5170</td>\n",
       "    </tr>\n",
       "    <tr>\n",
       "      <th>20</th>\n",
       "      <td>Michigan</td>\n",
       "      <td>76136.0740</td>\n",
       "    </tr>\n",
       "    <tr>\n",
       "      <th>33</th>\n",
       "      <td>Ohio</td>\n",
       "      <td>74848.9780</td>\n",
       "    </tr>\n",
       "    <tr>\n",
       "      <th>44</th>\n",
       "      <td>Virginia</td>\n",
       "      <td>70636.7200</td>\n",
       "    </tr>\n",
       "  </tbody>\n",
       "</table>\n",
       "</div>"
      ],
      "text/plain": [
       "           state        sales\n",
       "3     California  446306.4635\n",
       "30      New York  306361.1470\n",
       "41         Texas  168572.5322\n",
       "45    Washington  135206.8500\n",
       "36  Pennsylvania  116276.6500\n",
       "8        Florida   88436.5320\n",
       "11      Illinois   79236.5170\n",
       "20      Michigan   76136.0740\n",
       "33          Ohio   74848.9780\n",
       "44      Virginia   70636.7200"
      ]
     },
     "execution_count": 27,
     "metadata": {},
     "output_type": "execute_result"
    }
   ],
   "source": [
    "state_sales = pd.DataFrame(sales.groupby(sales['state']).sum()['sales'].reset_index())\n",
    "state_sales = state_sales.nlargest(10, 'sales')\n",
    "state_sales.head(10)"
   ]
  },
  {
   "cell_type": "code",
   "execution_count": 28,
   "id": "d9cc81ae",
   "metadata": {
    "execution": {
     "iopub.execute_input": "2022-02-08T12:12:04.818436Z",
     "iopub.status.busy": "2022-02-08T12:12:04.817718Z",
     "iopub.status.idle": "2022-02-08T12:12:05.158039Z",
     "shell.execute_reply": "2022-02-08T12:12:05.157465Z",
     "shell.execute_reply.started": "2022-02-08T12:10:44.480652Z"
    },
    "papermill": {
     "duration": 0.406008,
     "end_time": "2022-02-08T12:12:05.158191",
     "exception": false,
     "start_time": "2022-02-08T12:12:04.752183",
     "status": "completed"
    },
    "tags": []
   },
   "outputs": [
    {
     "data": {
      "image/png": "[encoded data removed]",
      "text/plain": [
       "<Figure size 1440x576 with 1 Axes>"
      ]
     },
     "metadata": {},
     "output_type": "display_data"
    }
   ],
   "source": [
    "sns.set(font_scale=1.3)\n",
    "plt.figure(figsize=(20,8));\n",
    "plt.title('Top 10 state sales')\n",
    "sns.set_style('darkgrid')\n",
    "sns.barplot(x='sales', y='state',data = state_sales);"
   ]
  },
  {
   "cell_type": "markdown",
   "id": "f704cf2a",
   "metadata": {
    "papermill": {
     "duration": 0.064347,
     "end_time": "2022-02-08T12:12:05.286209",
     "exception": false,
     "start_time": "2022-02-08T12:12:05.221862",
     "status": "completed"
    },
    "tags": []
   },
   "source": [
    "# What is the top selling products ?"
   ]
  },
  {
   "cell_type": "code",
   "execution_count": 29,
   "id": "160e5bf1",
   "metadata": {
    "execution": {
     "iopub.execute_input": "2022-02-08T12:12:05.418269Z",
     "iopub.status.busy": "2022-02-08T12:12:05.417428Z",
     "iopub.status.idle": "2022-02-08T12:12:05.439636Z",
     "shell.execute_reply": "2022-02-08T12:12:05.440241Z",
     "shell.execute_reply.started": "2022-02-08T12:10:44.796860Z"
    },
    "papermill": {
     "duration": 0.090123,
     "end_time": "2022-02-08T12:12:05.440453",
     "exception": false,
     "start_time": "2022-02-08T12:12:05.350330",
     "status": "completed"
    },
    "tags": []
   },
   "outputs": [
    {
     "data": {
      "text/html": [
       "<div>\n",
       "<style scoped>\n",
       "    .dataframe tbody tr th:only-of-type {\n",
       "        vertical-align: middle;\n",
       "    }\n",
       "\n",
       "    .dataframe tbody tr th {\n",
       "        vertical-align: top;\n",
       "    }\n",
       "\n",
       "    .dataframe thead th {\n",
       "        text-align: right;\n",
       "    }\n",
       "</style>\n",
       "<table border=\"1\" class=\"dataframe\">\n",
       "  <thead>\n",
       "    <tr style=\"text-align: right;\">\n",
       "      <th></th>\n",
       "      <th>product_name</th>\n",
       "      <th>sales</th>\n",
       "    </tr>\n",
       "  </thead>\n",
       "  <tbody>\n",
       "    <tr>\n",
       "      <th>404</th>\n",
       "      <td>Canon imageCLASS 2200 Advanced Copier</td>\n",
       "      <td>61599.824</td>\n",
       "    </tr>\n",
       "    <tr>\n",
       "      <th>649</th>\n",
       "      <td>Fellowes PB500 Electric Punch Plastic Comb Bin...</td>\n",
       "      <td>27453.384</td>\n",
       "    </tr>\n",
       "    <tr>\n",
       "      <th>444</th>\n",
       "      <td>Cisco TelePresence System EX90 Videoconferenci...</td>\n",
       "      <td>22638.480</td>\n",
       "    </tr>\n",
       "    <tr>\n",
       "      <th>785</th>\n",
       "      <td>HON 5400 Series Task Chairs for Big and Tall</td>\n",
       "      <td>21870.576</td>\n",
       "    </tr>\n",
       "    <tr>\n",
       "      <th>685</th>\n",
       "      <td>GBC DocuBind TL300 Electric Binding System</td>\n",
       "      <td>19823.479</td>\n",
       "    </tr>\n",
       "    <tr>\n",
       "      <th>687</th>\n",
       "      <td>GBC Ibimaster 500 Manual ProClick Binding System</td>\n",
       "      <td>19024.500</td>\n",
       "    </tr>\n",
       "    <tr>\n",
       "      <th>804</th>\n",
       "      <td>Hewlett Packard LaserJet 3310 Copier</td>\n",
       "      <td>18839.686</td>\n",
       "    </tr>\n",
       "    <tr>\n",
       "      <th>786</th>\n",
       "      <td>HP Designjet T520 Inkjet Large Format Printer ...</td>\n",
       "      <td>18374.895</td>\n",
       "    </tr>\n",
       "    <tr>\n",
       "      <th>682</th>\n",
       "      <td>GBC DocuBind P400 Electric Binding System</td>\n",
       "      <td>17965.068</td>\n",
       "    </tr>\n",
       "    <tr>\n",
       "      <th>812</th>\n",
       "      <td>High Speed Automatic Electric Letter Opener</td>\n",
       "      <td>17030.312</td>\n",
       "    </tr>\n",
       "  </tbody>\n",
       "</table>\n",
       "</div>"
      ],
      "text/plain": [
       "                                          product_name      sales\n",
       "404              Canon imageCLASS 2200 Advanced Copier  61599.824\n",
       "649  Fellowes PB500 Electric Punch Plastic Comb Bin...  27453.384\n",
       "444  Cisco TelePresence System EX90 Videoconferenci...  22638.480\n",
       "785       HON 5400 Series Task Chairs for Big and Tall  21870.576\n",
       "685         GBC DocuBind TL300 Electric Binding System  19823.479\n",
       "687   GBC Ibimaster 500 Manual ProClick Binding System  19024.500\n",
       "804               Hewlett Packard LaserJet 3310 Copier  18839.686\n",
       "786  HP Designjet T520 Inkjet Large Format Printer ...  18374.895\n",
       "682          GBC DocuBind P400 Electric Binding System  17965.068\n",
       "812        High Speed Automatic Electric Letter Opener  17030.312"
      ]
     },
     "execution_count": 29,
     "metadata": {},
     "output_type": "execute_result"
    }
   ],
   "source": [
    "product_sales = pd.DataFrame(sales.groupby(sales['product_name']).sum()['sales'].reset_index())\n",
    "product_sales = product_sales.nlargest(10,'sales')\n",
    "product_sales.head(10)"
   ]
  },
  {
   "cell_type": "code",
   "execution_count": 30,
   "id": "f4c64424",
   "metadata": {
    "execution": {
     "iopub.execute_input": "2022-02-08T12:12:05.574670Z",
     "iopub.status.busy": "2022-02-08T12:12:05.573979Z",
     "iopub.status.idle": "2022-02-08T12:12:05.993703Z",
     "shell.execute_reply": "2022-02-08T12:12:05.994228Z",
     "shell.execute_reply.started": "2022-02-08T12:10:44.818564Z"
    },
    "papermill": {
     "duration": 0.489481,
     "end_time": "2022-02-08T12:12:05.994435",
     "exception": false,
     "start_time": "2022-02-08T12:12:05.504954",
     "status": "completed"
    },
    "tags": []
   },
   "outputs": [
    {
     "data": {
      "image/png": "[encoded data removed]",
      "text/plain": [
       "<Figure size 1080x576 with 1 Axes>"
      ]
     },
     "metadata": {},
     "output_type": "display_data"
    }
   ],
   "source": [
    "sns.set(font_scale=1.3)\n",
    "plt.figure(figsize=(15,8));\n",
    "plt.title('Top 10 products sales')\n",
    "sns.set_style('darkgrid')\n",
    "sns.barplot(x='sales', y='product_name',data = product_sales);"
   ]
  },
  {
   "cell_type": "markdown",
   "id": "bb16346f",
   "metadata": {
    "papermill": {
     "duration": 0.0661,
     "end_time": "2022-02-08T12:12:06.127771",
     "exception": false,
     "start_time": "2022-02-08T12:12:06.061671",
     "status": "completed"
    },
    "tags": []
   },
   "source": [
    "# Which ship mode generate sales the most ?"
   ]
  },
  {
   "cell_type": "code",
   "execution_count": 31,
   "id": "397eec14",
   "metadata": {
    "execution": {
     "iopub.execute_input": "2022-02-08T12:12:06.271803Z",
     "iopub.status.busy": "2022-02-08T12:12:06.270588Z",
     "iopub.status.idle": "2022-02-08T12:12:06.288462Z",
     "shell.execute_reply": "2022-02-08T12:12:06.287859Z",
     "shell.execute_reply.started": "2022-02-08T12:10:45.217316Z"
    },
    "papermill": {
     "duration": 0.093376,
     "end_time": "2022-02-08T12:12:06.288640",
     "exception": false,
     "start_time": "2022-02-08T12:12:06.195264",
     "status": "completed"
    },
    "tags": []
   },
   "outputs": [
    {
     "data": {
      "text/html": [
       "<div>\n",
       "<style scoped>\n",
       "    .dataframe tbody tr th:only-of-type {\n",
       "        vertical-align: middle;\n",
       "    }\n",
       "\n",
       "    .dataframe tbody tr th {\n",
       "        vertical-align: top;\n",
       "    }\n",
       "\n",
       "    .dataframe thead th {\n",
       "        text-align: right;\n",
       "    }\n",
       "</style>\n",
       "<table border=\"1\" class=\"dataframe\">\n",
       "  <thead>\n",
       "    <tr style=\"text-align: right;\">\n",
       "      <th></th>\n",
       "      <th>ship_mode</th>\n",
       "      <th>sales</th>\n",
       "    </tr>\n",
       "  </thead>\n",
       "  <tbody>\n",
       "    <tr>\n",
       "      <th>3</th>\n",
       "      <td>Standard Class</td>\n",
       "      <td>1.340550e+06</td>\n",
       "    </tr>\n",
       "    <tr>\n",
       "      <th>2</th>\n",
       "      <td>Second Class</td>\n",
       "      <td>4.499142e+05</td>\n",
       "    </tr>\n",
       "    <tr>\n",
       "      <th>0</th>\n",
       "      <td>First Class</td>\n",
       "      <td>3.455723e+05</td>\n",
       "    </tr>\n",
       "    <tr>\n",
       "      <th>1</th>\n",
       "      <td>Same Day</td>\n",
       "      <td>1.252190e+05</td>\n",
       "    </tr>\n",
       "  </tbody>\n",
       "</table>\n",
       "</div>"
      ],
      "text/plain": [
       "        ship_mode         sales\n",
       "3  Standard Class  1.340550e+06\n",
       "2    Second Class  4.499142e+05\n",
       "0     First Class  3.455723e+05\n",
       "1        Same Day  1.252190e+05"
      ]
     },
     "execution_count": 31,
     "metadata": {},
     "output_type": "execute_result"
    }
   ],
   "source": [
    "shipmode_sales = pd.DataFrame(sales.groupby(sales['ship_mode']).sum()['sales'].reset_index())\n",
    "shipmode_sales = shipmode_sales.nlargest(4,'sales')\n",
    "shipmode_sales.head(4)"
   ]
  },
  {
   "cell_type": "code",
   "execution_count": 32,
   "id": "e09f9927",
   "metadata": {
    "execution": {
     "iopub.execute_input": "2022-02-08T12:12:06.456623Z",
     "iopub.status.busy": "2022-02-08T12:12:06.455552Z",
     "iopub.status.idle": "2022-02-08T12:12:06.765413Z",
     "shell.execute_reply": "2022-02-08T12:12:06.765973Z",
     "shell.execute_reply.started": "2022-02-08T12:10:45.239614Z"
    },
    "papermill": {
     "duration": 0.396612,
     "end_time": "2022-02-08T12:12:06.766178",
     "exception": false,
     "start_time": "2022-02-08T12:12:06.369566",
     "status": "completed"
    },
    "tags": []
   },
   "outputs": [
    {
     "data": {
      "image/png": "[encoded data removed]",
      "text/plain": [
       "<Figure size 1080x576 with 1 Axes>"
      ]
     },
     "metadata": {},
     "output_type": "display_data"
    }
   ],
   "source": [
    "sns.set(font_scale=1.3)\n",
    "plt.figure(figsize=(15,8));\n",
    "plt.title('Sales per ship mode')\n",
    "sns.set_style('darkgrid')\n",
    "sns.barplot(x='sales', y='ship_mode',data = shipmode_sales);"
   ]
  },
  {
   "cell_type": "markdown",
   "id": "a459bb27",
   "metadata": {
    "papermill": {
     "duration": 0.06712,
     "end_time": "2022-02-08T12:12:06.901032",
     "exception": false,
     "start_time": "2022-02-08T12:12:06.833912",
     "status": "completed"
    },
    "tags": []
   },
   "source": [
    "# Sales over the 4 years"
   ]
  },
  {
   "cell_type": "code",
   "execution_count": 33,
   "id": "33018888",
   "metadata": {
    "execution": {
     "iopub.execute_input": "2022-02-08T12:12:07.044634Z",
     "iopub.status.busy": "2022-02-08T12:12:07.043502Z",
     "iopub.status.idle": "2022-02-08T12:12:07.061986Z",
     "shell.execute_reply": "2022-02-08T12:12:07.061416Z",
     "shell.execute_reply.started": "2022-02-08T12:10:45.524401Z"
    },
    "papermill": {
     "duration": 0.091575,
     "end_time": "2022-02-08T12:12:07.062149",
     "exception": false,
     "start_time": "2022-02-08T12:12:06.970574",
     "status": "completed"
    },
    "tags": []
   },
   "outputs": [
    {
     "data": {
      "text/html": [
       "<div>\n",
       "<style scoped>\n",
       "    .dataframe tbody tr th:only-of-type {\n",
       "        vertical-align: middle;\n",
       "    }\n",
       "\n",
       "    .dataframe tbody tr th {\n",
       "        vertical-align: top;\n",
       "    }\n",
       "\n",
       "    .dataframe thead th {\n",
       "        text-align: right;\n",
       "    }\n",
       "</style>\n",
       "<table border=\"1\" class=\"dataframe\">\n",
       "  <thead>\n",
       "    <tr style=\"text-align: right;\">\n",
       "      <th></th>\n",
       "      <th>order_year</th>\n",
       "      <th>sales</th>\n",
       "    </tr>\n",
       "  </thead>\n",
       "  <tbody>\n",
       "    <tr>\n",
       "      <th>3</th>\n",
       "      <td>2018</td>\n",
       "      <td>722052.0192</td>\n",
       "    </tr>\n",
       "    <tr>\n",
       "      <th>2</th>\n",
       "      <td>2017</td>\n",
       "      <td>600192.5500</td>\n",
       "    </tr>\n",
       "    <tr>\n",
       "      <th>0</th>\n",
       "      <td>2015</td>\n",
       "      <td>479574.8361</td>\n",
       "    </tr>\n",
       "    <tr>\n",
       "      <th>1</th>\n",
       "      <td>2016</td>\n",
       "      <td>459436.0054</td>\n",
       "    </tr>\n",
       "  </tbody>\n",
       "</table>\n",
       "</div>"
      ],
      "text/plain": [
       "   order_year        sales\n",
       "3        2018  722052.0192\n",
       "2        2017  600192.5500\n",
       "0        2015  479574.8361\n",
       "1        2016  459436.0054"
      ]
     },
     "execution_count": 33,
     "metadata": {},
     "output_type": "execute_result"
    }
   ],
   "source": [
    "year_sales = pd.DataFrame(sales.groupby(sales['order_year']).sum()['sales'].reset_index())\n",
    "year_sales = year_sales.nlargest(4,'sales')\n",
    "year_sales.head(4)"
   ]
  },
  {
   "cell_type": "code",
   "execution_count": 34,
   "id": "af221ac6",
   "metadata": {
    "execution": {
     "iopub.execute_input": "2022-02-08T12:12:07.203021Z",
     "iopub.status.busy": "2022-02-08T12:12:07.201922Z",
     "iopub.status.idle": "2022-02-08T12:12:07.462958Z",
     "shell.execute_reply": "2022-02-08T12:12:07.463583Z",
     "shell.execute_reply.started": "2022-02-08T12:10:45.541338Z"
    },
    "papermill": {
     "duration": 0.333302,
     "end_time": "2022-02-08T12:12:07.463787",
     "exception": false,
     "start_time": "2022-02-08T12:12:07.130485",
     "status": "completed"
    },
    "tags": []
   },
   "outputs": [
    {
     "data": {
      "image/png": "[encoded data removed]",
      "text/plain": [
       "<Figure size 1080x576 with 1 Axes>"
      ]
     },
     "metadata": {},
     "output_type": "display_data"
    }
   ],
   "source": [
    "sns.set(font_scale=1.3)\n",
    "plt.figure(figsize=(15,8));\n",
    "plt.title('Sales per year')\n",
    "sns.set_style('darkgrid')\n",
    "sns.barplot(x='order_year', y='sales',data = year_sales);\n"
   ]
  },
  {
   "cell_type": "code",
   "execution_count": 35,
   "id": "0b2bb226",
   "metadata": {
    "execution": {
     "iopub.execute_input": "2022-02-08T12:12:07.606866Z",
     "iopub.status.busy": "2022-02-08T12:12:07.605807Z",
     "iopub.status.idle": "2022-02-08T12:12:07.963668Z",
     "shell.execute_reply": "2022-02-08T12:12:07.964223Z",
     "shell.execute_reply.started": "2022-02-08T12:10:45.783368Z"
    },
    "papermill": {
     "duration": 0.431593,
     "end_time": "2022-02-08T12:12:07.964427",
     "exception": false,
     "start_time": "2022-02-08T12:12:07.532834",
     "status": "completed"
    },
    "tags": []
   },
   "outputs": [
    {
     "data": {
      "image/png": "[encoded data removed]",
      "text/plain": [
       "<Figure size 1080x576 with 1 Axes>"
      ]
     },
     "metadata": {},
     "output_type": "display_data"
    }
   ],
   "source": [
    "sns.set(font_scale=1.3)\n",
    "plt.figure(figsize=(15,8));\n",
    "plt.title('Sales change over years')\n",
    "sns.set_style('darkgrid')\n",
    "sns.lineplot(x='order_year', y='sales',data = year_sales);"
   ]
  },
  {
   "cell_type": "markdown",
   "id": "75ea2591",
   "metadata": {
    "papermill": {
     "duration": 0.070238,
     "end_time": "2022-02-08T12:12:08.105479",
     "exception": false,
     "start_time": "2022-02-08T12:12:08.035241",
     "status": "completed"
    },
    "tags": []
   },
   "source": [
    "# Top selling months over the 4 years"
   ]
  },
  {
   "cell_type": "code",
   "execution_count": 36,
   "id": "a451dcfd",
   "metadata": {
    "execution": {
     "iopub.execute_input": "2022-02-08T12:12:08.252231Z",
     "iopub.status.busy": "2022-02-08T12:12:08.251170Z",
     "iopub.status.idle": "2022-02-08T12:12:08.272109Z",
     "shell.execute_reply": "2022-02-08T12:12:08.272635Z",
     "shell.execute_reply.started": "2022-02-08T12:10:46.096730Z"
    },
    "papermill": {
     "duration": 0.095861,
     "end_time": "2022-02-08T12:12:08.272859",
     "exception": false,
     "start_time": "2022-02-08T12:12:08.176998",
     "status": "completed"
    },
    "tags": []
   },
   "outputs": [
    {
     "data": {
      "text/html": [
       "<div>\n",
       "<style scoped>\n",
       "    .dataframe tbody tr th:only-of-type {\n",
       "        vertical-align: middle;\n",
       "    }\n",
       "\n",
       "    .dataframe tbody tr th {\n",
       "        vertical-align: top;\n",
       "    }\n",
       "\n",
       "    .dataframe thead th {\n",
       "        text-align: right;\n",
       "    }\n",
       "</style>\n",
       "<table border=\"1\" class=\"dataframe\">\n",
       "  <thead>\n",
       "    <tr style=\"text-align: right;\">\n",
       "      <th></th>\n",
       "      <th>order_month</th>\n",
       "      <th>sales</th>\n",
       "    </tr>\n",
       "  </thead>\n",
       "  <tbody>\n",
       "    <tr>\n",
       "      <th>9</th>\n",
       "      <td>November</td>\n",
       "      <td>268768.7885</td>\n",
       "    </tr>\n",
       "    <tr>\n",
       "      <th>2</th>\n",
       "      <td>December</td>\n",
       "      <td>246266.5152</td>\n",
       "    </tr>\n",
       "    <tr>\n",
       "      <th>11</th>\n",
       "      <td>September</td>\n",
       "      <td>245155.0671</td>\n",
       "    </tr>\n",
       "    <tr>\n",
       "      <th>7</th>\n",
       "      <td>March</td>\n",
       "      <td>212256.1344</td>\n",
       "    </tr>\n",
       "    <tr>\n",
       "      <th>1</th>\n",
       "      <td>August</td>\n",
       "      <td>207601.7939</td>\n",
       "    </tr>\n",
       "    <tr>\n",
       "      <th>10</th>\n",
       "      <td>October</td>\n",
       "      <td>183851.9562</td>\n",
       "    </tr>\n",
       "    <tr>\n",
       "      <th>8</th>\n",
       "      <td>May</td>\n",
       "      <td>166000.7467</td>\n",
       "    </tr>\n",
       "    <tr>\n",
       "      <th>5</th>\n",
       "      <td>July</td>\n",
       "      <td>159472.5865</td>\n",
       "    </tr>\n",
       "    <tr>\n",
       "      <th>4</th>\n",
       "      <td>January</td>\n",
       "      <td>155990.9154</td>\n",
       "    </tr>\n",
       "    <tr>\n",
       "      <th>0</th>\n",
       "      <td>April</td>\n",
       "      <td>142702.8761</td>\n",
       "    </tr>\n",
       "    <tr>\n",
       "      <th>6</th>\n",
       "      <td>June</td>\n",
       "      <td>142034.7713</td>\n",
       "    </tr>\n",
       "    <tr>\n",
       "      <th>3</th>\n",
       "      <td>February</td>\n",
       "      <td>131153.2594</td>\n",
       "    </tr>\n",
       "  </tbody>\n",
       "</table>\n",
       "</div>"
      ],
      "text/plain": [
       "   order_month        sales\n",
       "9     November  268768.7885\n",
       "2     December  246266.5152\n",
       "11   September  245155.0671\n",
       "7        March  212256.1344\n",
       "1       August  207601.7939\n",
       "10     October  183851.9562\n",
       "8          May  166000.7467\n",
       "5         July  159472.5865\n",
       "4      January  155990.9154\n",
       "0        April  142702.8761\n",
       "6         June  142034.7713\n",
       "3     February  131153.2594"
      ]
     },
     "execution_count": 36,
     "metadata": {},
     "output_type": "execute_result"
    }
   ],
   "source": [
    "month_sales = pd.DataFrame(sales.groupby(sales['order_month']).sum()['sales'].reset_index())\n",
    "month_sales = month_sales.nlargest(12,'sales')\n",
    "month_sales.head(12)"
   ]
  },
  {
   "cell_type": "code",
   "execution_count": 37,
   "id": "0dcada57",
   "metadata": {
    "execution": {
     "iopub.execute_input": "2022-02-08T12:12:08.420264Z",
     "iopub.status.busy": "2022-02-08T12:12:08.419208Z",
     "iopub.status.idle": "2022-02-08T12:12:09.008275Z",
     "shell.execute_reply": "2022-02-08T12:12:09.008855Z",
     "shell.execute_reply.started": "2022-02-08T12:10:46.117579Z"
    },
    "papermill": {
     "duration": 0.664686,
     "end_time": "2022-02-08T12:12:09.009060",
     "exception": false,
     "start_time": "2022-02-08T12:12:08.344374",
     "status": "completed"
    },
    "tags": []
   },
   "outputs": [
    {
     "data": {
      "image/png": "[encoded data removed]",
      "text/plain": [
       "<Figure size 1080x576 with 1 Axes>"
      ]
     },
     "metadata": {},
     "output_type": "display_data"
    }
   ],
   "source": [
    "sns.set(font_scale=1.1)\n",
    "plt.figure(figsize=(15,8));\n",
    "plt.title('Sales per month all over the 4 years')\n",
    "sns.set_style('darkgrid')\n",
    "sns.barplot(x='order_month', y='sales',data = month_sales);\n",
    "sns.lineplot(x='order_month', y='sales',data = month_sales);"
   ]
  },
  {
   "cell_type": "code",
   "execution_count": 38,
   "id": "c5e49593",
   "metadata": {
    "execution": {
     "iopub.execute_input": "2022-02-08T12:12:09.159787Z",
     "iopub.status.busy": "2022-02-08T12:12:09.158568Z",
     "iopub.status.idle": "2022-02-08T12:12:09.177688Z",
     "shell.execute_reply": "2022-02-08T12:12:09.178141Z",
     "shell.execute_reply.started": "2022-02-08T12:10:46.469554Z"
    },
    "papermill": {
     "duration": 0.09579,
     "end_time": "2022-02-08T12:12:09.178337",
     "exception": false,
     "start_time": "2022-02-08T12:12:09.082547",
     "status": "completed"
    },
    "tags": []
   },
   "outputs": [
    {
     "data": {
      "text/html": [
       "<div>\n",
       "<style scoped>\n",
       "    .dataframe tbody tr th:only-of-type {\n",
       "        vertical-align: middle;\n",
       "    }\n",
       "\n",
       "    .dataframe tbody tr th {\n",
       "        vertical-align: top;\n",
       "    }\n",
       "\n",
       "    .dataframe thead th {\n",
       "        text-align: right;\n",
       "    }\n",
       "</style>\n",
       "<table border=\"1\" class=\"dataframe\">\n",
       "  <thead>\n",
       "    <tr style=\"text-align: right;\">\n",
       "      <th></th>\n",
       "      <th>order_date</th>\n",
       "      <th>ship_date</th>\n",
       "      <th>ship_mode</th>\n",
       "      <th>segment</th>\n",
       "      <th>city</th>\n",
       "      <th>state</th>\n",
       "      <th>region</th>\n",
       "      <th>category</th>\n",
       "      <th>sub_category</th>\n",
       "      <th>product_name</th>\n",
       "      <th>sales</th>\n",
       "      <th>order_year</th>\n",
       "      <th>order_month</th>\n",
       "    </tr>\n",
       "  </thead>\n",
       "  <tbody>\n",
       "    <tr>\n",
       "      <th>0</th>\n",
       "      <td>2017-08-11</td>\n",
       "      <td>2017-11-11</td>\n",
       "      <td>Second Class</td>\n",
       "      <td>Consumer</td>\n",
       "      <td>Henderson</td>\n",
       "      <td>Kentucky</td>\n",
       "      <td>South</td>\n",
       "      <td>Furniture</td>\n",
       "      <td>Bookcases</td>\n",
       "      <td>Bush Somerset Collection Bookcase</td>\n",
       "      <td>261.9600</td>\n",
       "      <td>2017</td>\n",
       "      <td>August</td>\n",
       "    </tr>\n",
       "    <tr>\n",
       "      <th>1</th>\n",
       "      <td>2017-08-11</td>\n",
       "      <td>2017-11-11</td>\n",
       "      <td>Second Class</td>\n",
       "      <td>Consumer</td>\n",
       "      <td>Henderson</td>\n",
       "      <td>Kentucky</td>\n",
       "      <td>South</td>\n",
       "      <td>Furniture</td>\n",
       "      <td>Chairs</td>\n",
       "      <td>Hon Deluxe Fabric Upholstered Stacking Chairs,...</td>\n",
       "      <td>731.9400</td>\n",
       "      <td>2017</td>\n",
       "      <td>August</td>\n",
       "    </tr>\n",
       "    <tr>\n",
       "      <th>2</th>\n",
       "      <td>2017-12-06</td>\n",
       "      <td>2017-06-16</td>\n",
       "      <td>Second Class</td>\n",
       "      <td>Corporate</td>\n",
       "      <td>Los Angeles</td>\n",
       "      <td>California</td>\n",
       "      <td>West</td>\n",
       "      <td>Office Supplies</td>\n",
       "      <td>Labels</td>\n",
       "      <td>Self-Adhesive Address Labels for Typewriters b...</td>\n",
       "      <td>14.6200</td>\n",
       "      <td>2017</td>\n",
       "      <td>December</td>\n",
       "    </tr>\n",
       "    <tr>\n",
       "      <th>3</th>\n",
       "      <td>2016-11-10</td>\n",
       "      <td>2016-10-18</td>\n",
       "      <td>Standard Class</td>\n",
       "      <td>Consumer</td>\n",
       "      <td>Fort Lauderdale</td>\n",
       "      <td>Florida</td>\n",
       "      <td>South</td>\n",
       "      <td>Furniture</td>\n",
       "      <td>Tables</td>\n",
       "      <td>Bretford CR4500 Series Slim Rectangular Table</td>\n",
       "      <td>957.5775</td>\n",
       "      <td>2016</td>\n",
       "      <td>November</td>\n",
       "    </tr>\n",
       "    <tr>\n",
       "      <th>4</th>\n",
       "      <td>2016-11-10</td>\n",
       "      <td>2016-10-18</td>\n",
       "      <td>Standard Class</td>\n",
       "      <td>Consumer</td>\n",
       "      <td>Fort Lauderdale</td>\n",
       "      <td>Florida</td>\n",
       "      <td>South</td>\n",
       "      <td>Office Supplies</td>\n",
       "      <td>Storage</td>\n",
       "      <td>Eldon Fold 'N Roll Cart System</td>\n",
       "      <td>22.3680</td>\n",
       "      <td>2016</td>\n",
       "      <td>November</td>\n",
       "    </tr>\n",
       "  </tbody>\n",
       "</table>\n",
       "</div>"
      ],
      "text/plain": [
       "  order_date  ship_date       ship_mode    segment             city  \\\n",
       "0 2017-08-11 2017-11-11    Second Class   Consumer        Henderson   \n",
       "1 2017-08-11 2017-11-11    Second Class   Consumer        Henderson   \n",
       "2 2017-12-06 2017-06-16    Second Class  Corporate      Los Angeles   \n",
       "3 2016-11-10 2016-10-18  Standard Class   Consumer  Fort Lauderdale   \n",
       "4 2016-11-10 2016-10-18  Standard Class   Consumer  Fort Lauderdale   \n",
       "\n",
       "        state region         category sub_category  \\\n",
       "0    Kentucky  South        Furniture    Bookcases   \n",
       "1    Kentucky  South        Furniture       Chairs   \n",
       "2  California   West  Office Supplies       Labels   \n",
       "3     Florida  South        Furniture       Tables   \n",
       "4     Florida  South  Office Supplies      Storage   \n",
       "\n",
       "                                        product_name     sales  order_year  \\\n",
       "0                  Bush Somerset Collection Bookcase  261.9600        2017   \n",
       "1  Hon Deluxe Fabric Upholstered Stacking Chairs,...  731.9400        2017   \n",
       "2  Self-Adhesive Address Labels for Typewriters b...   14.6200        2017   \n",
       "3      Bretford CR4500 Series Slim Rectangular Table  957.5775        2016   \n",
       "4                     Eldon Fold 'N Roll Cart System   22.3680        2016   \n",
       "\n",
       "  order_month  \n",
       "0      August  \n",
       "1      August  \n",
       "2    December  \n",
       "3    November  \n",
       "4    November  "
      ]
     },
     "execution_count": 38,
     "metadata": {},
     "output_type": "execute_result"
    }
   ],
   "source": [
    "sales.head()"
   ]
  },
  {
   "cell_type": "code",
   "execution_count": 39,
   "id": "83372260",
   "metadata": {
    "execution": {
     "iopub.execute_input": "2022-02-08T12:12:09.330773Z",
     "iopub.status.busy": "2022-02-08T12:12:09.329617Z",
     "iopub.status.idle": "2022-02-08T12:12:09.340790Z",
     "shell.execute_reply": "2022-02-08T12:12:09.341297Z",
     "shell.execute_reply.started": "2022-02-08T12:10:46.489463Z"
    },
    "papermill": {
     "duration": 0.089997,
     "end_time": "2022-02-08T12:12:09.341550",
     "exception": false,
     "start_time": "2022-02-08T12:12:09.251553",
     "status": "completed"
    },
    "tags": []
   },
   "outputs": [],
   "source": [
    "year_2015 = sales.loc[sales['order_year'] == 2015]\n",
    "year_2016 = sales.loc[sales['order_year'] == 2016]\n",
    "year_2017 = sales.loc[sales['order_year'] == 2017]\n",
    "year_2018 = sales.loc[sales['order_year'] == 2018]"
   ]
  },
  {
   "cell_type": "markdown",
   "id": "65cd80d7",
   "metadata": {
    "papermill": {
     "duration": 0.07374,
     "end_time": "2022-02-08T12:12:09.488715",
     "exception": false,
     "start_time": "2022-02-08T12:12:09.414975",
     "status": "completed"
    },
    "tags": []
   },
   "source": [
    "* Creating a dataframe for each of the 4 years"
   ]
  },
  {
   "cell_type": "markdown",
   "id": "1669051e",
   "metadata": {
    "papermill": {
     "duration": 0.073329,
     "end_time": "2022-02-08T12:12:09.635773",
     "exception": false,
     "start_time": "2022-02-08T12:12:09.562444",
     "status": "completed"
    },
    "tags": []
   },
   "source": [
    "# Change in monthly sales for 2015"
   ]
  },
  {
   "cell_type": "code",
   "execution_count": 40,
   "id": "87cc0e17",
   "metadata": {
    "execution": {
     "iopub.execute_input": "2022-02-08T12:12:09.794037Z",
     "iopub.status.busy": "2022-02-08T12:12:09.793171Z",
     "iopub.status.idle": "2022-02-08T12:12:09.808190Z",
     "shell.execute_reply": "2022-02-08T12:12:09.808732Z",
     "shell.execute_reply.started": "2022-02-08T12:10:46.506463Z"
    },
    "papermill": {
     "duration": 0.099134,
     "end_time": "2022-02-08T12:12:09.808938",
     "exception": false,
     "start_time": "2022-02-08T12:12:09.709804",
     "status": "completed"
    },
    "tags": []
   },
   "outputs": [
    {
     "data": {
      "text/html": [
       "<div>\n",
       "<style scoped>\n",
       "    .dataframe tbody tr th:only-of-type {\n",
       "        vertical-align: middle;\n",
       "    }\n",
       "\n",
       "    .dataframe tbody tr th {\n",
       "        vertical-align: top;\n",
       "    }\n",
       "\n",
       "    .dataframe thead th {\n",
       "        text-align: right;\n",
       "    }\n",
       "</style>\n",
       "<table border=\"1\" class=\"dataframe\">\n",
       "  <thead>\n",
       "    <tr style=\"text-align: right;\">\n",
       "      <th></th>\n",
       "      <th>order_month</th>\n",
       "      <th>sales</th>\n",
       "    </tr>\n",
       "  </thead>\n",
       "  <tbody>\n",
       "    <tr>\n",
       "      <th>11</th>\n",
       "      <td>September</td>\n",
       "      <td>65956.3998</td>\n",
       "    </tr>\n",
       "    <tr>\n",
       "      <th>9</th>\n",
       "      <td>November</td>\n",
       "      <td>64369.4565</td>\n",
       "    </tr>\n",
       "    <tr>\n",
       "      <th>2</th>\n",
       "      <td>December</td>\n",
       "      <td>63568.3107</td>\n",
       "    </tr>\n",
       "    <tr>\n",
       "      <th>7</th>\n",
       "      <td>March</td>\n",
       "      <td>54027.6920</td>\n",
       "    </tr>\n",
       "    <tr>\n",
       "      <th>1</th>\n",
       "      <td>August</td>\n",
       "      <td>37349.2655</td>\n",
       "    </tr>\n",
       "    <tr>\n",
       "      <th>5</th>\n",
       "      <td>July</td>\n",
       "      <td>35194.5580</td>\n",
       "    </tr>\n",
       "    <tr>\n",
       "      <th>10</th>\n",
       "      <td>October</td>\n",
       "      <td>34561.9470</td>\n",
       "    </tr>\n",
       "    <tr>\n",
       "      <th>8</th>\n",
       "      <td>May</td>\n",
       "      <td>29520.4900</td>\n",
       "    </tr>\n",
       "    <tr>\n",
       "      <th>6</th>\n",
       "      <td>June</td>\n",
       "      <td>29181.3346</td>\n",
       "    </tr>\n",
       "    <tr>\n",
       "      <th>4</th>\n",
       "      <td>January</td>\n",
       "      <td>28828.2540</td>\n",
       "    </tr>\n",
       "    <tr>\n",
       "      <th>0</th>\n",
       "      <td>April</td>\n",
       "      <td>24428.6440</td>\n",
       "    </tr>\n",
       "    <tr>\n",
       "      <th>3</th>\n",
       "      <td>February</td>\n",
       "      <td>12588.4840</td>\n",
       "    </tr>\n",
       "  </tbody>\n",
       "</table>\n",
       "</div>"
      ],
      "text/plain": [
       "   order_month       sales\n",
       "11   September  65956.3998\n",
       "9     November  64369.4565\n",
       "2     December  63568.3107\n",
       "7        March  54027.6920\n",
       "1       August  37349.2655\n",
       "5         July  35194.5580\n",
       "10     October  34561.9470\n",
       "8          May  29520.4900\n",
       "6         June  29181.3346\n",
       "4      January  28828.2540\n",
       "0        April  24428.6440\n",
       "3     February  12588.4840"
      ]
     },
     "execution_count": 40,
     "metadata": {},
     "output_type": "execute_result"
    }
   ],
   "source": [
    "monthly_sales_2015 = pd.DataFrame(sales.groupby(year_2015['order_month']).sum()['sales'].reset_index())\n",
    "monthly_sales_2015 = monthly_sales_2015.nlargest(12,'sales')\n",
    "monthly_sales_2015.head(12)"
   ]
  },
  {
   "cell_type": "code",
   "execution_count": 41,
   "id": "e8b289ba",
   "metadata": {
    "execution": {
     "iopub.execute_input": "2022-02-08T12:12:09.963047Z",
     "iopub.status.busy": "2022-02-08T12:12:09.962263Z",
     "iopub.status.idle": "2022-02-08T12:12:10.361762Z",
     "shell.execute_reply": "2022-02-08T12:12:10.362286Z",
     "shell.execute_reply.started": "2022-02-08T12:10:46.527315Z"
    },
    "papermill": {
     "duration": 0.479137,
     "end_time": "2022-02-08T12:12:10.362499",
     "exception": false,
     "start_time": "2022-02-08T12:12:09.883362",
     "status": "completed"
    },
    "tags": []
   },
   "outputs": [
    {
     "data": {
      "image/png": "[encoded data removed]",
      "text/plain": [
       "<Figure size 1440x576 with 1 Axes>"
      ]
     },
     "metadata": {},
     "output_type": "display_data"
    }
   ],
   "source": [
    "sns.set_style('darkgrid')\n",
    "sns.set(font_scale=1.3)\n",
    "plt.figure(figsize=(20,8))\n",
    "plt.title('Monthly sales 2015')\n",
    "sns.lineplot(x= 'order_month', y='sales', data = monthly_sales_2015);\n",
    "sns.barplot(x='order_month', y='sales',data = monthly_sales_2015);"
   ]
  },
  {
   "cell_type": "markdown",
   "id": "4bbd7115",
   "metadata": {
    "papermill": {
     "duration": 0.075271,
     "end_time": "2022-02-08T12:12:10.513357",
     "exception": false,
     "start_time": "2022-02-08T12:12:10.438086",
     "status": "completed"
    },
    "tags": []
   },
   "source": [
    "# Change in monthly sales for 2016"
   ]
  },
  {
   "cell_type": "code",
   "execution_count": 42,
   "id": "8af62401",
   "metadata": {
    "execution": {
     "iopub.execute_input": "2022-02-08T12:12:10.668295Z",
     "iopub.status.busy": "2022-02-08T12:12:10.667187Z",
     "iopub.status.idle": "2022-02-08T12:12:10.687730Z",
     "shell.execute_reply": "2022-02-08T12:12:10.688223Z",
     "shell.execute_reply.started": "2022-02-08T12:10:46.885100Z"
    },
    "papermill": {
     "duration": 0.099919,
     "end_time": "2022-02-08T12:12:10.688436",
     "exception": false,
     "start_time": "2022-02-08T12:12:10.588517",
     "status": "completed"
    },
    "tags": []
   },
   "outputs": [
    {
     "data": {
      "text/html": [
       "<div>\n",
       "<style scoped>\n",
       "    .dataframe tbody tr th:only-of-type {\n",
       "        vertical-align: middle;\n",
       "    }\n",
       "\n",
       "    .dataframe tbody tr th {\n",
       "        vertical-align: top;\n",
       "    }\n",
       "\n",
       "    .dataframe thead th {\n",
       "        text-align: right;\n",
       "    }\n",
       "</style>\n",
       "<table border=\"1\" class=\"dataframe\">\n",
       "  <thead>\n",
       "    <tr style=\"text-align: right;\">\n",
       "      <th></th>\n",
       "      <th>order_month</th>\n",
       "      <th>sales</th>\n",
       "    </tr>\n",
       "  </thead>\n",
       "  <tbody>\n",
       "    <tr>\n",
       "      <th>11</th>\n",
       "      <td>September</td>\n",
       "      <td>65352.9970</td>\n",
       "    </tr>\n",
       "    <tr>\n",
       "      <th>2</th>\n",
       "      <td>December</td>\n",
       "      <td>52891.8832</td>\n",
       "    </tr>\n",
       "    <tr>\n",
       "      <th>9</th>\n",
       "      <td>November</td>\n",
       "      <td>50009.1450</td>\n",
       "    </tr>\n",
       "    <tr>\n",
       "      <th>1</th>\n",
       "      <td>August</td>\n",
       "      <td>49076.9300</td>\n",
       "    </tr>\n",
       "    <tr>\n",
       "      <th>0</th>\n",
       "      <td>April</td>\n",
       "      <td>38056.9685</td>\n",
       "    </tr>\n",
       "    <tr>\n",
       "      <th>7</th>\n",
       "      <td>March</td>\n",
       "      <td>34489.6776</td>\n",
       "    </tr>\n",
       "    <tr>\n",
       "      <th>10</th>\n",
       "      <td>October</td>\n",
       "      <td>31631.8890</td>\n",
       "    </tr>\n",
       "    <tr>\n",
       "      <th>8</th>\n",
       "      <td>May</td>\n",
       "      <td>30761.5585</td>\n",
       "    </tr>\n",
       "    <tr>\n",
       "      <th>4</th>\n",
       "      <td>January</td>\n",
       "      <td>29347.3864</td>\n",
       "    </tr>\n",
       "    <tr>\n",
       "      <th>5</th>\n",
       "      <td>July</td>\n",
       "      <td>28573.3100</td>\n",
       "    </tr>\n",
       "    <tr>\n",
       "      <th>6</th>\n",
       "      <td>June</td>\n",
       "      <td>28515.9082</td>\n",
       "    </tr>\n",
       "    <tr>\n",
       "      <th>3</th>\n",
       "      <td>February</td>\n",
       "      <td>20728.3520</td>\n",
       "    </tr>\n",
       "  </tbody>\n",
       "</table>\n",
       "</div>"
      ],
      "text/plain": [
       "   order_month       sales\n",
       "11   September  65352.9970\n",
       "2     December  52891.8832\n",
       "9     November  50009.1450\n",
       "1       August  49076.9300\n",
       "0        April  38056.9685\n",
       "7        March  34489.6776\n",
       "10     October  31631.8890\n",
       "8          May  30761.5585\n",
       "4      January  29347.3864\n",
       "5         July  28573.3100\n",
       "6         June  28515.9082\n",
       "3     February  20728.3520"
      ]
     },
     "execution_count": 42,
     "metadata": {},
     "output_type": "execute_result"
    }
   ],
   "source": [
    "monthly_sales_2016 = pd.DataFrame(sales.groupby(year_2016['order_month']).sum()['sales'].reset_index())\n",
    "monthly_sales_2016 = monthly_sales_2016.nlargest(12,'sales')\n",
    "monthly_sales_2016.head(12)"
   ]
  },
  {
   "cell_type": "code",
   "execution_count": 43,
   "id": "381e54b1",
   "metadata": {
    "execution": {
     "iopub.execute_input": "2022-02-08T12:12:10.937199Z",
     "iopub.status.busy": "2022-02-08T12:12:10.890912Z",
     "iopub.status.idle": "2022-02-08T12:12:11.237112Z",
     "shell.execute_reply": "2022-02-08T12:12:11.237640Z",
     "shell.execute_reply.started": "2022-02-08T12:10:46.903851Z"
    },
    "papermill": {
     "duration": 0.472857,
     "end_time": "2022-02-08T12:12:11.237837",
     "exception": false,
     "start_time": "2022-02-08T12:12:10.764980",
     "status": "completed"
    },
    "tags": []
   },
   "outputs": [
    {
     "data": {
      "image/png": "[encoded data removed]",
      "text/plain": [
       "<Figure size 1440x576 with 1 Axes>"
      ]
     },
     "metadata": {},
     "output_type": "display_data"
    }
   ],
   "source": [
    "sns.set_style('darkgrid')\n",
    "sns.set(font_scale=1.3)\n",
    "plt.figure(figsize=(20,8))\n",
    "plt.title('Monthly sales 2016')\n",
    "sns.lineplot(x= 'order_month', y='sales', data = monthly_sales_2016);\n",
    "sns.barplot(x='order_month', y='sales',data = monthly_sales_2016);"
   ]
  },
  {
   "cell_type": "markdown",
   "id": "0c350a00",
   "metadata": {
    "papermill": {
     "duration": 0.077608,
     "end_time": "2022-02-08T12:12:11.394987",
     "exception": false,
     "start_time": "2022-02-08T12:12:11.317379",
     "status": "completed"
    },
    "tags": []
   },
   "source": [
    "# Change in monthly sales for 2017"
   ]
  },
  {
   "cell_type": "code",
   "execution_count": 44,
   "id": "b9edc4af",
   "metadata": {
    "execution": {
     "iopub.execute_input": "2022-02-08T12:12:11.558449Z",
     "iopub.status.busy": "2022-02-08T12:12:11.557686Z",
     "iopub.status.idle": "2022-02-08T12:12:11.572347Z",
     "shell.execute_reply": "2022-02-08T12:12:11.572914Z",
     "shell.execute_reply.started": "2022-02-08T12:10:47.258015Z"
    },
    "papermill": {
     "duration": 0.10096,
     "end_time": "2022-02-08T12:12:11.573110",
     "exception": false,
     "start_time": "2022-02-08T12:12:11.472150",
     "status": "completed"
    },
    "tags": []
   },
   "outputs": [
    {
     "data": {
      "text/html": [
       "<div>\n",
       "<style scoped>\n",
       "    .dataframe tbody tr th:only-of-type {\n",
       "        vertical-align: middle;\n",
       "    }\n",
       "\n",
       "    .dataframe tbody tr th {\n",
       "        vertical-align: top;\n",
       "    }\n",
       "\n",
       "    .dataframe thead th {\n",
       "        text-align: right;\n",
       "    }\n",
       "</style>\n",
       "<table border=\"1\" class=\"dataframe\">\n",
       "  <thead>\n",
       "    <tr style=\"text-align: right;\">\n",
       "      <th></th>\n",
       "      <th>order_month</th>\n",
       "      <th>sales</th>\n",
       "    </tr>\n",
       "  </thead>\n",
       "  <tbody>\n",
       "    <tr>\n",
       "      <th>2</th>\n",
       "      <td>December</td>\n",
       "      <td>72847.0855</td>\n",
       "    </tr>\n",
       "    <tr>\n",
       "      <th>9</th>\n",
       "      <td>November</td>\n",
       "      <td>66392.5470</td>\n",
       "    </tr>\n",
       "    <tr>\n",
       "      <th>8</th>\n",
       "      <td>May</td>\n",
       "      <td>64836.2518</td>\n",
       "    </tr>\n",
       "    <tr>\n",
       "      <th>10</th>\n",
       "      <td>October</td>\n",
       "      <td>52156.9580</td>\n",
       "    </tr>\n",
       "    <tr>\n",
       "      <th>7</th>\n",
       "      <td>March</td>\n",
       "      <td>48990.1410</td>\n",
       "    </tr>\n",
       "    <tr>\n",
       "      <th>3</th>\n",
       "      <td>February</td>\n",
       "      <td>48907.5900</td>\n",
       "    </tr>\n",
       "    <tr>\n",
       "      <th>1</th>\n",
       "      <td>August</td>\n",
       "      <td>45766.8144</td>\n",
       "    </tr>\n",
       "    <tr>\n",
       "      <th>0</th>\n",
       "      <td>April</td>\n",
       "      <td>42368.0480</td>\n",
       "    </tr>\n",
       "    <tr>\n",
       "      <th>5</th>\n",
       "      <td>July</td>\n",
       "      <td>41761.9430</td>\n",
       "    </tr>\n",
       "    <tr>\n",
       "      <th>11</th>\n",
       "      <td>September</td>\n",
       "      <td>40692.3063</td>\n",
       "    </tr>\n",
       "    <tr>\n",
       "      <th>4</th>\n",
       "      <td>January</td>\n",
       "      <td>38048.1840</td>\n",
       "    </tr>\n",
       "    <tr>\n",
       "      <th>6</th>\n",
       "      <td>June</td>\n",
       "      <td>37424.6810</td>\n",
       "    </tr>\n",
       "  </tbody>\n",
       "</table>\n",
       "</div>"
      ],
      "text/plain": [
       "   order_month       sales\n",
       "2     December  72847.0855\n",
       "9     November  66392.5470\n",
       "8          May  64836.2518\n",
       "10     October  52156.9580\n",
       "7        March  48990.1410\n",
       "3     February  48907.5900\n",
       "1       August  45766.8144\n",
       "0        April  42368.0480\n",
       "5         July  41761.9430\n",
       "11   September  40692.3063\n",
       "4      January  38048.1840\n",
       "6         June  37424.6810"
      ]
     },
     "execution_count": 44,
     "metadata": {},
     "output_type": "execute_result"
    }
   ],
   "source": [
    "monthly_sales_2017 = pd.DataFrame(sales.groupby(year_2017['order_month']).sum()['sales'].reset_index())\n",
    "monthly_sales_2017 = monthly_sales_2017.nlargest(12,'sales')\n",
    "monthly_sales_2017.head(12)"
   ]
  },
  {
   "cell_type": "code",
   "execution_count": 45,
   "id": "01c8b6ac",
   "metadata": {
    "execution": {
     "iopub.execute_input": "2022-02-08T12:12:11.770087Z",
     "iopub.status.busy": "2022-02-08T12:12:11.765048Z",
     "iopub.status.idle": "2022-02-08T12:12:12.130006Z",
     "shell.execute_reply": "2022-02-08T12:12:12.129267Z",
     "shell.execute_reply.started": "2022-02-08T12:10:47.277383Z"
    },
    "papermill": {
     "duration": 0.479055,
     "end_time": "2022-02-08T12:12:12.130169",
     "exception": false,
     "start_time": "2022-02-08T12:12:11.651114",
     "status": "completed"
    },
    "tags": []
   },
   "outputs": [
    {
     "data": {
      "image/png": "[encoded data removed]",
      "text/plain": [
       "<Figure size 1440x576 with 1 Axes>"
      ]
     },
     "metadata": {},
     "output_type": "display_data"
    }
   ],
   "source": [
    "sns.set_style('darkgrid')\n",
    "sns.set(font_scale=1.3)\n",
    "plt.figure(figsize=(20,8))\n",
    "plt.title('Monthly sales 2017')\n",
    "sns.lineplot(x= 'order_month', y='sales', data = monthly_sales_2017);\n",
    "sns.barplot(x='order_month', y='sales',data = monthly_sales_2017);"
   ]
  },
  {
   "cell_type": "markdown",
   "id": "4f0a9e29",
   "metadata": {
    "papermill": {
     "duration": 0.079283,
     "end_time": "2022-02-08T12:12:12.289116",
     "exception": false,
     "start_time": "2022-02-08T12:12:12.209833",
     "status": "completed"
    },
    "tags": []
   },
   "source": [
    "# Change in monthly sales for 2018"
   ]
  },
  {
   "cell_type": "code",
   "execution_count": 46,
   "id": "937c10a3",
   "metadata": {
    "execution": {
     "iopub.execute_input": "2022-02-08T12:12:12.455033Z",
     "iopub.status.busy": "2022-02-08T12:12:12.453924Z",
     "iopub.status.idle": "2022-02-08T12:12:12.473427Z",
     "shell.execute_reply": "2022-02-08T12:12:12.474058Z",
     "shell.execute_reply.started": "2022-02-08T12:10:47.790483Z"
    },
    "papermill": {
     "duration": 0.105077,
     "end_time": "2022-02-08T12:12:12.474268",
     "exception": false,
     "start_time": "2022-02-08T12:12:12.369191",
     "status": "completed"
    },
    "tags": []
   },
   "outputs": [
    {
     "data": {
      "text/html": [
       "<div>\n",
       "<style scoped>\n",
       "    .dataframe tbody tr th:only-of-type {\n",
       "        vertical-align: middle;\n",
       "    }\n",
       "\n",
       "    .dataframe tbody tr th {\n",
       "        vertical-align: top;\n",
       "    }\n",
       "\n",
       "    .dataframe thead th {\n",
       "        text-align: right;\n",
       "    }\n",
       "</style>\n",
       "<table border=\"1\" class=\"dataframe\">\n",
       "  <thead>\n",
       "    <tr style=\"text-align: right;\">\n",
       "      <th></th>\n",
       "      <th>order_month</th>\n",
       "      <th>sales</th>\n",
       "    </tr>\n",
       "  </thead>\n",
       "  <tbody>\n",
       "    <tr>\n",
       "      <th>9</th>\n",
       "      <td>November</td>\n",
       "      <td>87997.6400</td>\n",
       "    </tr>\n",
       "    <tr>\n",
       "      <th>1</th>\n",
       "      <td>August</td>\n",
       "      <td>75408.7840</td>\n",
       "    </tr>\n",
       "    <tr>\n",
       "      <th>7</th>\n",
       "      <td>March</td>\n",
       "      <td>74748.6238</td>\n",
       "    </tr>\n",
       "    <tr>\n",
       "      <th>11</th>\n",
       "      <td>September</td>\n",
       "      <td>73153.3640</td>\n",
       "    </tr>\n",
       "    <tr>\n",
       "      <th>10</th>\n",
       "      <td>October</td>\n",
       "      <td>65501.1622</td>\n",
       "    </tr>\n",
       "    <tr>\n",
       "      <th>4</th>\n",
       "      <td>January</td>\n",
       "      <td>59767.0910</td>\n",
       "    </tr>\n",
       "    <tr>\n",
       "      <th>2</th>\n",
       "      <td>December</td>\n",
       "      <td>56959.2358</td>\n",
       "    </tr>\n",
       "    <tr>\n",
       "      <th>5</th>\n",
       "      <td>July</td>\n",
       "      <td>53942.7755</td>\n",
       "    </tr>\n",
       "    <tr>\n",
       "      <th>3</th>\n",
       "      <td>February</td>\n",
       "      <td>48928.8334</td>\n",
       "    </tr>\n",
       "    <tr>\n",
       "      <th>6</th>\n",
       "      <td>June</td>\n",
       "      <td>46912.8475</td>\n",
       "    </tr>\n",
       "    <tr>\n",
       "      <th>8</th>\n",
       "      <td>May</td>\n",
       "      <td>40882.4464</td>\n",
       "    </tr>\n",
       "    <tr>\n",
       "      <th>0</th>\n",
       "      <td>April</td>\n",
       "      <td>37849.2156</td>\n",
       "    </tr>\n",
       "  </tbody>\n",
       "</table>\n",
       "</div>"
      ],
      "text/plain": [
       "   order_month       sales\n",
       "9     November  87997.6400\n",
       "1       August  75408.7840\n",
       "7        March  74748.6238\n",
       "11   September  73153.3640\n",
       "10     October  65501.1622\n",
       "4      January  59767.0910\n",
       "2     December  56959.2358\n",
       "5         July  53942.7755\n",
       "3     February  48928.8334\n",
       "6         June  46912.8475\n",
       "8          May  40882.4464\n",
       "0        April  37849.2156"
      ]
     },
     "execution_count": 46,
     "metadata": {},
     "output_type": "execute_result"
    }
   ],
   "source": [
    "monthly_sales_2018 = pd.DataFrame(sales.groupby(year_2018['order_month']).sum()['sales'].reset_index())\n",
    "monthly_sales_2018 = monthly_sales_2018.nlargest(12,'sales')\n",
    "monthly_sales_2018.head(12)"
   ]
  },
  {
   "cell_type": "code",
   "execution_count": 47,
   "id": "2c04e69e",
   "metadata": {
    "execution": {
     "iopub.execute_input": "2022-02-08T12:12:12.640835Z",
     "iopub.status.busy": "2022-02-08T12:12:12.640128Z",
     "iopub.status.idle": "2022-02-08T12:12:12.978396Z",
     "shell.execute_reply": "2022-02-08T12:12:12.978932Z",
     "shell.execute_reply.started": "2022-02-08T12:10:47.810963Z"
    },
    "papermill": {
     "duration": 0.424509,
     "end_time": "2022-02-08T12:12:12.979132",
     "exception": false,
     "start_time": "2022-02-08T12:12:12.554623",
     "status": "completed"
    },
    "tags": []
   },
   "outputs": [
    {
     "data": {
      "image/png": "[encoded data removed]",
      "text/plain": [
       "<Figure size 1440x576 with 1 Axes>"
      ]
     },
     "metadata": {},
     "output_type": "display_data"
    }
   ],
   "source": [
    "sns.set_style('darkgrid')\n",
    "sns.set(font_scale=1.3)\n",
    "plt.figure(figsize=(20,8))\n",
    "plt.title('Monthly sales 2018')\n",
    "sns.lineplot(x= 'order_month', y='sales', data = monthly_sales_2018);\n",
    "sns.barplot(x='order_month', y='sales',data = monthly_sales_2018);"
   ]
  }
 ],
 "metadata": {
  "kernelspec": {
   "display_name": "Python 3",
   "language": "python",
   "name": "python3"
  },
  "language_info": {
   "codemirror_mode": {
    "name": "ipython",
    "version": 3
   },
   "file_extension": ".py",
   "mimetype": "text/x-python",
   "name": "python",
   "nbconvert_exporter": "python",
   "pygments_lexer": "ipython3",
   "version": "3.7.12"
  },
  "papermill": {
   "default_parameters": {},
   "duration": 27.940839,
   "end_time": "2022-02-08T12:12:13.973214",
   "environment_variables": {},
   "exception": null,
   "input_path": "__notebook__.ipynb",
   "output_path": "__notebook__.ipynb",
   "parameters": {},
   "start_time": "2022-02-08T12:11:46.032375",
   "version": "2.3.3"
  }
 },
 "nbformat": 4,
 "nbformat_minor": 5
}
